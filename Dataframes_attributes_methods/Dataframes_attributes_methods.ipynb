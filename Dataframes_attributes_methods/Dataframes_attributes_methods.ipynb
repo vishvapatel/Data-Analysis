{
  "nbformat": 4,
  "nbformat_minor": 0,
  "metadata": {
    "colab": {
      "name": "Dataframes_attributes_methods.ipynb",
      "provenance": [],
      "collapsed_sections": []
    },
    "kernelspec": {
      "name": "python3",
      "display_name": "Python 3"
    }
  },
  "cells": [
    {
      "cell_type": "markdown",
      "metadata": {
        "id": "0Pffg7G2REA_",
        "colab_type": "text"
      },
      "source": [
        "# Contents\n",
        "* CSV file\n",
        "* Dataframe, attributes and methods\n",
        "* Comparison Operators\n",
        "* Bitwise Operators\n",
        "* Exercise -1"
      ]
    },
    {
      "cell_type": "code",
      "metadata": {
        "id": "F0GACZqq5TvG",
        "colab_type": "code",
        "colab": {}
      },
      "source": [
        "#getting rid of all the unwanted warnings.\n",
        "import warnings\n",
        "warnings.simplefilter('ignore')"
      ],
      "execution_count": 0,
      "outputs": []
    },
    {
      "cell_type": "code",
      "metadata": {
        "id": "k14GYqlk-HnB",
        "colab_type": "code",
        "colab": {}
      },
      "source": [
        "#importing pandas - python's data handeling libraries\n",
        "import pandas as pd"
      ],
      "execution_count": 0,
      "outputs": []
    },
    {
      "cell_type": "markdown",
      "metadata": {
        "id": "h4dzmjq4_b2m",
        "colab_type": "text"
      },
      "source": [
        "# Introducing a new data format\n",
        "\n",
        "* This time we will use another format of storing data known as .csv files. \n",
        "* This are text files in which data is stored seperated by charachter like comma,space etc.\n",
        "* In pandas .csv file is reffered as data frame.\n",
        "\n"
      ]
    },
    {
      "cell_type": "code",
      "metadata": {
        "id": "7VkOSceI-QVR",
        "colab_type": "code",
        "colab": {
          "base_uri": "https://localhost:8080/",
          "height": 34
        },
        "outputId": "0f942bd6-da5a-4273-be04-1067231a3ec3"
      },
      "source": [
        "df = pd.read_csv('WHO POP TB all.csv')\n",
        "print(type(df)) #type() function returns the class of the input variable."
      ],
      "execution_count": 7,
      "outputs": [
        {
          "output_type": "stream",
          "text": [
            "<class 'pandas.core.frame.DataFrame'>\n"
          ],
          "name": "stdout"
        }
      ]
    },
    {
      "cell_type": "markdown",
      "metadata": {
        "id": "BaSTdf-DArnB",
        "colab_type": "text"
      },
      "source": [
        "## About Dataframes\n",
        "* Methods are said to be a property of a dataframe. \n",
        "* In addition to methods, dataframes have another property  attributes.\n",
        "* A dataframe attribute is like a variable that can be accessed only in the context of dataframe.\n",
        "* All the attributes are accessed using a <b>.dot notation</b> "
      ]
    },
    {
      "cell_type": "code",
      "metadata": {
        "id": "BniWinmSBYYQ",
        "colab_type": "code",
        "colab": {
          "base_uri": "https://localhost:8080/",
          "height": 34
        },
        "outputId": "9b5ae2ef-ff5d-464b-93a6-691850bbab1d"
      },
      "source": [
        "#one such attributes is columns\n",
        "df.columns"
      ],
      "execution_count": 8,
      "outputs": [
        {
          "output_type": "execute_result",
          "data": {
            "text/plain": [
              "Index(['Country', 'Population (1000s)', 'TB deaths'], dtype='object')"
            ]
          },
          "metadata": {
            "tags": []
          },
          "execution_count": 8
        }
      ]
    },
    {
      "cell_type": "markdown",
      "metadata": {
        "id": "oJ4Xgr6xCv_q",
        "colab_type": "text"
      },
      "source": [
        "## Displaying dataframe rows\n",
        "* A dataframe has a default integer index for its rows, which starts at 0 (zero). \n",
        "* You can get and display any single row in a dataframe by using the <b>iloc</b> attribute with the index of the row you want to access as its argument. \n",
        "* using the <b>head()</b> method you can print a collection of rows from starting.\n",
        " * If you don't pass any number(index) it will return the first 5 rows.   \n",
        "* The <b>tail()</b> method is same as head() but only return the entries from end."
      ]
    },
    {
      "cell_type": "code",
      "metadata": {
        "id": "qhR_6FMDDEfZ",
        "colab_type": "code",
        "colab": {
          "base_uri": "https://localhost:8080/",
          "height": 85
        },
        "outputId": "1c550950-cd28-4a75-b8a2-d7a29c081b19"
      },
      "source": [
        "df.iloc[0] #Returns the first row of the dataframe."
      ],
      "execution_count": 9,
      "outputs": [
        {
          "output_type": "execute_result",
          "data": {
            "text/plain": [
              "Country               Afghanistan\n",
              "Population (1000s)          30552\n",
              "TB deaths                   13000\n",
              "Name: 0, dtype: object"
            ]
          },
          "metadata": {
            "tags": []
          },
          "execution_count": 9
        }
      ]
    },
    {
      "cell_type": "code",
      "metadata": {
        "id": "_HX3RtJjD7zx",
        "colab_type": "code",
        "colab": {
          "base_uri": "https://localhost:8080/",
          "height": 204
        },
        "outputId": "f3c2d96f-4167-48ba-8acf-40a4e1a1e998"
      },
      "source": [
        "df.head() #default, will return first 5 entries."
      ],
      "execution_count": 11,
      "outputs": [
        {
          "output_type": "execute_result",
          "data": {
            "text/html": [
              "<div>\n",
              "<style scoped>\n",
              "    .dataframe tbody tr th:only-of-type {\n",
              "        vertical-align: middle;\n",
              "    }\n",
              "\n",
              "    .dataframe tbody tr th {\n",
              "        vertical-align: top;\n",
              "    }\n",
              "\n",
              "    .dataframe thead th {\n",
              "        text-align: right;\n",
              "    }\n",
              "</style>\n",
              "<table border=\"1\" class=\"dataframe\">\n",
              "  <thead>\n",
              "    <tr style=\"text-align: right;\">\n",
              "      <th></th>\n",
              "      <th>Country</th>\n",
              "      <th>Population (1000s)</th>\n",
              "      <th>TB deaths</th>\n",
              "    </tr>\n",
              "  </thead>\n",
              "  <tbody>\n",
              "    <tr>\n",
              "      <th>0</th>\n",
              "      <td>Afghanistan</td>\n",
              "      <td>30552</td>\n",
              "      <td>13000.00</td>\n",
              "    </tr>\n",
              "    <tr>\n",
              "      <th>1</th>\n",
              "      <td>Albania</td>\n",
              "      <td>3173</td>\n",
              "      <td>20.00</td>\n",
              "    </tr>\n",
              "    <tr>\n",
              "      <th>2</th>\n",
              "      <td>Algeria</td>\n",
              "      <td>39208</td>\n",
              "      <td>5100.00</td>\n",
              "    </tr>\n",
              "    <tr>\n",
              "      <th>3</th>\n",
              "      <td>Andorra</td>\n",
              "      <td>79</td>\n",
              "      <td>0.26</td>\n",
              "    </tr>\n",
              "    <tr>\n",
              "      <th>4</th>\n",
              "      <td>Angola</td>\n",
              "      <td>21472</td>\n",
              "      <td>6900.00</td>\n",
              "    </tr>\n",
              "  </tbody>\n",
              "</table>\n",
              "</div>"
            ],
            "text/plain": [
              "       Country  Population (1000s)  TB deaths\n",
              "0  Afghanistan               30552   13000.00\n",
              "1      Albania                3173      20.00\n",
              "2      Algeria               39208    5100.00\n",
              "3      Andorra                  79       0.26\n",
              "4       Angola               21472    6900.00"
            ]
          },
          "metadata": {
            "tags": []
          },
          "execution_count": 11
        }
      ]
    },
    {
      "cell_type": "code",
      "metadata": {
        "id": "MVsAqs5LETCY",
        "colab_type": "code",
        "colab": {
          "base_uri": "https://localhost:8080/",
          "height": 359
        },
        "outputId": "4c7429ac-c1b4-44cd-acbf-75fd31ef30a2"
      },
      "source": [
        "df.head(10) #This will returnt the first 10 entries."
      ],
      "execution_count": 13,
      "outputs": [
        {
          "output_type": "execute_result",
          "data": {
            "text/html": [
              "<div>\n",
              "<style scoped>\n",
              "    .dataframe tbody tr th:only-of-type {\n",
              "        vertical-align: middle;\n",
              "    }\n",
              "\n",
              "    .dataframe tbody tr th {\n",
              "        vertical-align: top;\n",
              "    }\n",
              "\n",
              "    .dataframe thead th {\n",
              "        text-align: right;\n",
              "    }\n",
              "</style>\n",
              "<table border=\"1\" class=\"dataframe\">\n",
              "  <thead>\n",
              "    <tr style=\"text-align: right;\">\n",
              "      <th></th>\n",
              "      <th>Country</th>\n",
              "      <th>Population (1000s)</th>\n",
              "      <th>TB deaths</th>\n",
              "    </tr>\n",
              "  </thead>\n",
              "  <tbody>\n",
              "    <tr>\n",
              "      <th>0</th>\n",
              "      <td>Afghanistan</td>\n",
              "      <td>30552</td>\n",
              "      <td>13000.00</td>\n",
              "    </tr>\n",
              "    <tr>\n",
              "      <th>1</th>\n",
              "      <td>Albania</td>\n",
              "      <td>3173</td>\n",
              "      <td>20.00</td>\n",
              "    </tr>\n",
              "    <tr>\n",
              "      <th>2</th>\n",
              "      <td>Algeria</td>\n",
              "      <td>39208</td>\n",
              "      <td>5100.00</td>\n",
              "    </tr>\n",
              "    <tr>\n",
              "      <th>3</th>\n",
              "      <td>Andorra</td>\n",
              "      <td>79</td>\n",
              "      <td>0.26</td>\n",
              "    </tr>\n",
              "    <tr>\n",
              "      <th>4</th>\n",
              "      <td>Angola</td>\n",
              "      <td>21472</td>\n",
              "      <td>6900.00</td>\n",
              "    </tr>\n",
              "    <tr>\n",
              "      <th>5</th>\n",
              "      <td>Antigua and Barbuda</td>\n",
              "      <td>90</td>\n",
              "      <td>1.20</td>\n",
              "    </tr>\n",
              "    <tr>\n",
              "      <th>6</th>\n",
              "      <td>Argentina</td>\n",
              "      <td>41446</td>\n",
              "      <td>570.00</td>\n",
              "    </tr>\n",
              "    <tr>\n",
              "      <th>7</th>\n",
              "      <td>Armenia</td>\n",
              "      <td>2977</td>\n",
              "      <td>170.00</td>\n",
              "    </tr>\n",
              "    <tr>\n",
              "      <th>8</th>\n",
              "      <td>Australia</td>\n",
              "      <td>23343</td>\n",
              "      <td>45.00</td>\n",
              "    </tr>\n",
              "    <tr>\n",
              "      <th>9</th>\n",
              "      <td>Austria</td>\n",
              "      <td>8495</td>\n",
              "      <td>29.00</td>\n",
              "    </tr>\n",
              "  </tbody>\n",
              "</table>\n",
              "</div>"
            ],
            "text/plain": [
              "               Country  Population (1000s)  TB deaths\n",
              "0          Afghanistan               30552   13000.00\n",
              "1              Albania                3173      20.00\n",
              "2              Algeria               39208    5100.00\n",
              "3              Andorra                  79       0.26\n",
              "4               Angola               21472    6900.00\n",
              "5  Antigua and Barbuda                  90       1.20\n",
              "6            Argentina               41446     570.00\n",
              "7              Armenia                2977     170.00\n",
              "8            Australia               23343      45.00\n",
              "9              Austria                8495      29.00"
            ]
          },
          "metadata": {
            "tags": []
          },
          "execution_count": 13
        }
      ]
    },
    {
      "cell_type": "code",
      "metadata": {
        "id": "oagVLfL9E1cH",
        "colab_type": "code",
        "colab": {
          "base_uri": "https://localhost:8080/",
          "height": 204
        },
        "outputId": "6bd7e999-b325-40bc-c4fc-03c80671a3cb"
      },
      "source": [
        "df.tail() #returns the last 5 entries."
      ],
      "execution_count": 14,
      "outputs": [
        {
          "output_type": "execute_result",
          "data": {
            "text/html": [
              "<div>\n",
              "<style scoped>\n",
              "    .dataframe tbody tr th:only-of-type {\n",
              "        vertical-align: middle;\n",
              "    }\n",
              "\n",
              "    .dataframe tbody tr th {\n",
              "        vertical-align: top;\n",
              "    }\n",
              "\n",
              "    .dataframe thead th {\n",
              "        text-align: right;\n",
              "    }\n",
              "</style>\n",
              "<table border=\"1\" class=\"dataframe\">\n",
              "  <thead>\n",
              "    <tr style=\"text-align: right;\">\n",
              "      <th></th>\n",
              "      <th>Country</th>\n",
              "      <th>Population (1000s)</th>\n",
              "      <th>TB deaths</th>\n",
              "    </tr>\n",
              "  </thead>\n",
              "  <tbody>\n",
              "    <tr>\n",
              "      <th>189</th>\n",
              "      <td>Venezuela (Bolivarian Republic of)</td>\n",
              "      <td>30405</td>\n",
              "      <td>480.0</td>\n",
              "    </tr>\n",
              "    <tr>\n",
              "      <th>190</th>\n",
              "      <td>Viet Nam</td>\n",
              "      <td>91680</td>\n",
              "      <td>17000.0</td>\n",
              "    </tr>\n",
              "    <tr>\n",
              "      <th>191</th>\n",
              "      <td>Yemen</td>\n",
              "      <td>24407</td>\n",
              "      <td>990.0</td>\n",
              "    </tr>\n",
              "    <tr>\n",
              "      <th>192</th>\n",
              "      <td>Zambia</td>\n",
              "      <td>14539</td>\n",
              "      <td>3600.0</td>\n",
              "    </tr>\n",
              "    <tr>\n",
              "      <th>193</th>\n",
              "      <td>Zimbabwe</td>\n",
              "      <td>14150</td>\n",
              "      <td>5700.0</td>\n",
              "    </tr>\n",
              "  </tbody>\n",
              "</table>\n",
              "</div>"
            ],
            "text/plain": [
              "                                Country  Population (1000s)  TB deaths\n",
              "189  Venezuela (Bolivarian Republic of)               30405      480.0\n",
              "190                            Viet Nam               91680    17000.0\n",
              "191                               Yemen               24407      990.0\n",
              "192                              Zambia               14539     3600.0\n",
              "193                            Zimbabwe               14150     5700.0"
            ]
          },
          "metadata": {
            "tags": []
          },
          "execution_count": 14
        }
      ]
    },
    {
      "cell_type": "code",
      "metadata": {
        "id": "i2Q4kRmwE95f",
        "colab_type": "code",
        "colab": {
          "base_uri": "https://localhost:8080/",
          "height": 359
        },
        "outputId": "b761dfa0-732b-4dc4-de90-798721918414"
      },
      "source": [
        "df.tail(10) #returns the last 10 entries."
      ],
      "execution_count": 15,
      "outputs": [
        {
          "output_type": "execute_result",
          "data": {
            "text/html": [
              "<div>\n",
              "<style scoped>\n",
              "    .dataframe tbody tr th:only-of-type {\n",
              "        vertical-align: middle;\n",
              "    }\n",
              "\n",
              "    .dataframe tbody tr th {\n",
              "        vertical-align: top;\n",
              "    }\n",
              "\n",
              "    .dataframe thead th {\n",
              "        text-align: right;\n",
              "    }\n",
              "</style>\n",
              "<table border=\"1\" class=\"dataframe\">\n",
              "  <thead>\n",
              "    <tr style=\"text-align: right;\">\n",
              "      <th></th>\n",
              "      <th>Country</th>\n",
              "      <th>Population (1000s)</th>\n",
              "      <th>TB deaths</th>\n",
              "    </tr>\n",
              "  </thead>\n",
              "  <tbody>\n",
              "    <tr>\n",
              "      <th>184</th>\n",
              "      <td>United Republic of Tanzania</td>\n",
              "      <td>49253</td>\n",
              "      <td>6000.0</td>\n",
              "    </tr>\n",
              "    <tr>\n",
              "      <th>185</th>\n",
              "      <td>United States of America</td>\n",
              "      <td>320051</td>\n",
              "      <td>490.0</td>\n",
              "    </tr>\n",
              "    <tr>\n",
              "      <th>186</th>\n",
              "      <td>Uruguay</td>\n",
              "      <td>3407</td>\n",
              "      <td>40.0</td>\n",
              "    </tr>\n",
              "    <tr>\n",
              "      <th>187</th>\n",
              "      <td>Uzbekistan</td>\n",
              "      <td>28934</td>\n",
              "      <td>2200.0</td>\n",
              "    </tr>\n",
              "    <tr>\n",
              "      <th>188</th>\n",
              "      <td>Vanuatu</td>\n",
              "      <td>253</td>\n",
              "      <td>16.0</td>\n",
              "    </tr>\n",
              "    <tr>\n",
              "      <th>189</th>\n",
              "      <td>Venezuela (Bolivarian Republic of)</td>\n",
              "      <td>30405</td>\n",
              "      <td>480.0</td>\n",
              "    </tr>\n",
              "    <tr>\n",
              "      <th>190</th>\n",
              "      <td>Viet Nam</td>\n",
              "      <td>91680</td>\n",
              "      <td>17000.0</td>\n",
              "    </tr>\n",
              "    <tr>\n",
              "      <th>191</th>\n",
              "      <td>Yemen</td>\n",
              "      <td>24407</td>\n",
              "      <td>990.0</td>\n",
              "    </tr>\n",
              "    <tr>\n",
              "      <th>192</th>\n",
              "      <td>Zambia</td>\n",
              "      <td>14539</td>\n",
              "      <td>3600.0</td>\n",
              "    </tr>\n",
              "    <tr>\n",
              "      <th>193</th>\n",
              "      <td>Zimbabwe</td>\n",
              "      <td>14150</td>\n",
              "      <td>5700.0</td>\n",
              "    </tr>\n",
              "  </tbody>\n",
              "</table>\n",
              "</div>"
            ],
            "text/plain": [
              "                                Country  Population (1000s)  TB deaths\n",
              "184         United Republic of Tanzania               49253     6000.0\n",
              "185            United States of America              320051      490.0\n",
              "186                             Uruguay                3407       40.0\n",
              "187                          Uzbekistan               28934     2200.0\n",
              "188                             Vanuatu                 253       16.0\n",
              "189  Venezuela (Bolivarian Republic of)               30405      480.0\n",
              "190                            Viet Nam               91680    17000.0\n",
              "191                               Yemen               24407      990.0\n",
              "192                              Zambia               14539     3600.0\n",
              "193                            Zimbabwe               14150     5700.0"
            ]
          },
          "metadata": {
            "tags": []
          },
          "execution_count": 15
        }
      ]
    },
    {
      "cell_type": "markdown",
      "metadata": {
        "id": "q1wrFbBzFh4E",
        "colab_type": "text"
      },
      "source": [
        "# Dataframe Columns\n",
        "* Accessing the columns in dataframe is same as in the previous notebook.\n",
        "* But in dataframes the columns returned arein <b>series</b> datatype.\n",
        "* The Series data type is a collection of values with an integer index that starts from zero.\n",
        "* series datatype supports major methods of the dataframes studied above."
      ]
    },
    {
      "cell_type": "code",
      "metadata": {
        "id": "Mx8CrTKTGL40",
        "colab_type": "code",
        "colab": {
          "base_uri": "https://localhost:8080/",
          "height": 221
        },
        "outputId": "a6e6e575-91f4-43fa-b615-66fce5c6e03e"
      },
      "source": [
        "#Accessing a single column\n",
        "df['TB deaths']"
      ],
      "execution_count": 17,
      "outputs": [
        {
          "output_type": "execute_result",
          "data": {
            "text/plain": [
              "0      13000.00\n",
              "1         20.00\n",
              "2       5100.00\n",
              "3          0.26\n",
              "4       6900.00\n",
              "         ...   \n",
              "189      480.00\n",
              "190    17000.00\n",
              "191      990.00\n",
              "192     3600.00\n",
              "193     5700.00\n",
              "Name: TB deaths, Length: 194, dtype: float64"
            ]
          },
          "metadata": {
            "tags": []
          },
          "execution_count": 17
        }
      ]
    },
    {
      "cell_type": "code",
      "metadata": {
        "id": "p93iH_fcGWk5",
        "colab_type": "code",
        "colab": {
          "base_uri": "https://localhost:8080/",
          "height": 204
        },
        "outputId": "ad3e4397-ca98-45ab-819c-c0b821744273"
      },
      "source": [
        "#The head()and tail() methods can be used in columns as well.\n",
        "df['Country'].head(10) "
      ],
      "execution_count": 21,
      "outputs": [
        {
          "output_type": "execute_result",
          "data": {
            "text/plain": [
              "0            Afghanistan\n",
              "1                Albania\n",
              "2                Algeria\n",
              "3                Andorra\n",
              "4                 Angola\n",
              "5    Antigua and Barbuda\n",
              "6              Argentina\n",
              "7                Armenia\n",
              "8              Australia\n",
              "9                Austria\n",
              "Name: Country, dtype: object"
            ]
          },
          "metadata": {
            "tags": []
          },
          "execution_count": 21
        }
      ]
    },
    {
      "cell_type": "code",
      "metadata": {
        "id": "mChdMnueGrKb",
        "colab_type": "code",
        "colab": {
          "base_uri": "https://localhost:8080/",
          "height": 419
        },
        "outputId": "77620488-6022-4ed1-e87b-3898f50f7c93"
      },
      "source": [
        "#Acessing multiple columns in pandas in the form of a list.\n",
        "df[['Country', 'TB deaths']]"
      ],
      "execution_count": 19,
      "outputs": [
        {
          "output_type": "execute_result",
          "data": {
            "text/html": [
              "<div>\n",
              "<style scoped>\n",
              "    .dataframe tbody tr th:only-of-type {\n",
              "        vertical-align: middle;\n",
              "    }\n",
              "\n",
              "    .dataframe tbody tr th {\n",
              "        vertical-align: top;\n",
              "    }\n",
              "\n",
              "    .dataframe thead th {\n",
              "        text-align: right;\n",
              "    }\n",
              "</style>\n",
              "<table border=\"1\" class=\"dataframe\">\n",
              "  <thead>\n",
              "    <tr style=\"text-align: right;\">\n",
              "      <th></th>\n",
              "      <th>Country</th>\n",
              "      <th>TB deaths</th>\n",
              "    </tr>\n",
              "  </thead>\n",
              "  <tbody>\n",
              "    <tr>\n",
              "      <th>0</th>\n",
              "      <td>Afghanistan</td>\n",
              "      <td>13000.00</td>\n",
              "    </tr>\n",
              "    <tr>\n",
              "      <th>1</th>\n",
              "      <td>Albania</td>\n",
              "      <td>20.00</td>\n",
              "    </tr>\n",
              "    <tr>\n",
              "      <th>2</th>\n",
              "      <td>Algeria</td>\n",
              "      <td>5100.00</td>\n",
              "    </tr>\n",
              "    <tr>\n",
              "      <th>3</th>\n",
              "      <td>Andorra</td>\n",
              "      <td>0.26</td>\n",
              "    </tr>\n",
              "    <tr>\n",
              "      <th>4</th>\n",
              "      <td>Angola</td>\n",
              "      <td>6900.00</td>\n",
              "    </tr>\n",
              "    <tr>\n",
              "      <th>...</th>\n",
              "      <td>...</td>\n",
              "      <td>...</td>\n",
              "    </tr>\n",
              "    <tr>\n",
              "      <th>189</th>\n",
              "      <td>Venezuela (Bolivarian Republic of)</td>\n",
              "      <td>480.00</td>\n",
              "    </tr>\n",
              "    <tr>\n",
              "      <th>190</th>\n",
              "      <td>Viet Nam</td>\n",
              "      <td>17000.00</td>\n",
              "    </tr>\n",
              "    <tr>\n",
              "      <th>191</th>\n",
              "      <td>Yemen</td>\n",
              "      <td>990.00</td>\n",
              "    </tr>\n",
              "    <tr>\n",
              "      <th>192</th>\n",
              "      <td>Zambia</td>\n",
              "      <td>3600.00</td>\n",
              "    </tr>\n",
              "    <tr>\n",
              "      <th>193</th>\n",
              "      <td>Zimbabwe</td>\n",
              "      <td>5700.00</td>\n",
              "    </tr>\n",
              "  </tbody>\n",
              "</table>\n",
              "<p>194 rows × 2 columns</p>\n",
              "</div>"
            ],
            "text/plain": [
              "                                Country  TB deaths\n",
              "0                           Afghanistan   13000.00\n",
              "1                               Albania      20.00\n",
              "2                               Algeria    5100.00\n",
              "3                               Andorra       0.26\n",
              "4                                Angola    6900.00\n",
              "..                                  ...        ...\n",
              "189  Venezuela (Bolivarian Republic of)     480.00\n",
              "190                            Viet Nam   17000.00\n",
              "191                               Yemen     990.00\n",
              "192                              Zambia    3600.00\n",
              "193                            Zimbabwe    5700.00\n",
              "\n",
              "[194 rows x 2 columns]"
            ]
          },
          "metadata": {
            "tags": []
          },
          "execution_count": 19
        }
      ]
    },
    {
      "cell_type": "markdown",
      "metadata": {
        "id": "YQKJXz4MINjW",
        "colab_type": "text"
      },
      "source": [
        "# Dataframe Operators\n",
        "* Dataframe supports all the python operators.\n",
        "* +, -,*, /, %\n",
        "* ==, >=, <=, >, <, !=\n",
        "* &, |"
      ]
    },
    {
      "cell_type": "code",
      "metadata": {
        "id": "38GJWXLfIpZx",
        "colab_type": "code",
        "colab": {
          "base_uri": "https://localhost:8080/",
          "height": 80
        },
        "outputId": "9ba9d96f-b0b8-4e1b-bc1f-1667fa7e39c3"
      },
      "source": [
        "df[df['Country'] == 'India'] #returns the row where country is India."
      ],
      "execution_count": 22,
      "outputs": [
        {
          "output_type": "execute_result",
          "data": {
            "text/html": [
              "<div>\n",
              "<style scoped>\n",
              "    .dataframe tbody tr th:only-of-type {\n",
              "        vertical-align: middle;\n",
              "    }\n",
              "\n",
              "    .dataframe tbody tr th {\n",
              "        vertical-align: top;\n",
              "    }\n",
              "\n",
              "    .dataframe thead th {\n",
              "        text-align: right;\n",
              "    }\n",
              "</style>\n",
              "<table border=\"1\" class=\"dataframe\">\n",
              "  <thead>\n",
              "    <tr style=\"text-align: right;\">\n",
              "      <th></th>\n",
              "      <th>Country</th>\n",
              "      <th>Population (1000s)</th>\n",
              "      <th>TB deaths</th>\n",
              "    </tr>\n",
              "  </thead>\n",
              "  <tbody>\n",
              "    <tr>\n",
              "      <th>77</th>\n",
              "      <td>India</td>\n",
              "      <td>1252140</td>\n",
              "      <td>240000.0</td>\n",
              "    </tr>\n",
              "  </tbody>\n",
              "</table>\n",
              "</div>"
            ],
            "text/plain": [
              "   Country  Population (1000s)  TB deaths\n",
              "77   India             1252140   240000.0"
            ]
          },
          "metadata": {
            "tags": []
          },
          "execution_count": 22
        }
      ]
    },
    {
      "cell_type": "code",
      "metadata": {
        "id": "kZK_LmRBI7qi",
        "colab_type": "code",
        "colab": {
          "base_uri": "https://localhost:8080/",
          "height": 221
        },
        "outputId": "a486dfc8-6d09-475d-f47d-28c0f7a49cae"
      },
      "source": [
        "#returns a dataframe where country starts with A or a letter later with A\n",
        "df[df['Country'] > 'A']['Country']"
      ],
      "execution_count": 29,
      "outputs": [
        {
          "output_type": "execute_result",
          "data": {
            "text/plain": [
              "0                             Afghanistan\n",
              "1                                 Albania\n",
              "2                                 Algeria\n",
              "3                                 Andorra\n",
              "4                                  Angola\n",
              "                      ...                \n",
              "189    Venezuela (Bolivarian Republic of)\n",
              "190                              Viet Nam\n",
              "191                                 Yemen\n",
              "192                                Zambia\n",
              "193                              Zimbabwe\n",
              "Name: Country, Length: 194, dtype: object"
            ]
          },
          "metadata": {
            "tags": []
          },
          "execution_count": 29
        }
      ]
    },
    {
      "cell_type": "code",
      "metadata": {
        "id": "fKf4pksvKI-H",
        "colab_type": "code",
        "colab": {
          "base_uri": "https://localhost:8080/",
          "height": 419
        },
        "outputId": "2ca360e0-8fba-431d-cc35-576412eead6f"
      },
      "source": [
        "#returns the names of the country with its TB deaths where country's population is greater than 10000\n",
        "df[df['Population (1000s)'] > 10000][['Country', 'TB deaths']]"
      ],
      "execution_count": 33,
      "outputs": [
        {
          "output_type": "execute_result",
          "data": {
            "text/html": [
              "<div>\n",
              "<style scoped>\n",
              "    .dataframe tbody tr th:only-of-type {\n",
              "        vertical-align: middle;\n",
              "    }\n",
              "\n",
              "    .dataframe tbody tr th {\n",
              "        vertical-align: top;\n",
              "    }\n",
              "\n",
              "    .dataframe thead th {\n",
              "        text-align: right;\n",
              "    }\n",
              "</style>\n",
              "<table border=\"1\" class=\"dataframe\">\n",
              "  <thead>\n",
              "    <tr style=\"text-align: right;\">\n",
              "      <th></th>\n",
              "      <th>Country</th>\n",
              "      <th>TB deaths</th>\n",
              "    </tr>\n",
              "  </thead>\n",
              "  <tbody>\n",
              "    <tr>\n",
              "      <th>0</th>\n",
              "      <td>Afghanistan</td>\n",
              "      <td>13000.0</td>\n",
              "    </tr>\n",
              "    <tr>\n",
              "      <th>2</th>\n",
              "      <td>Algeria</td>\n",
              "      <td>5100.0</td>\n",
              "    </tr>\n",
              "    <tr>\n",
              "      <th>4</th>\n",
              "      <td>Angola</td>\n",
              "      <td>6900.0</td>\n",
              "    </tr>\n",
              "    <tr>\n",
              "      <th>6</th>\n",
              "      <td>Argentina</td>\n",
              "      <td>570.0</td>\n",
              "    </tr>\n",
              "    <tr>\n",
              "      <th>8</th>\n",
              "      <td>Australia</td>\n",
              "      <td>45.0</td>\n",
              "    </tr>\n",
              "    <tr>\n",
              "      <th>...</th>\n",
              "      <td>...</td>\n",
              "      <td>...</td>\n",
              "    </tr>\n",
              "    <tr>\n",
              "      <th>189</th>\n",
              "      <td>Venezuela (Bolivarian Republic of)</td>\n",
              "      <td>480.0</td>\n",
              "    </tr>\n",
              "    <tr>\n",
              "      <th>190</th>\n",
              "      <td>Viet Nam</td>\n",
              "      <td>17000.0</td>\n",
              "    </tr>\n",
              "    <tr>\n",
              "      <th>191</th>\n",
              "      <td>Yemen</td>\n",
              "      <td>990.0</td>\n",
              "    </tr>\n",
              "    <tr>\n",
              "      <th>192</th>\n",
              "      <td>Zambia</td>\n",
              "      <td>3600.0</td>\n",
              "    </tr>\n",
              "    <tr>\n",
              "      <th>193</th>\n",
              "      <td>Zimbabwe</td>\n",
              "      <td>5700.0</td>\n",
              "    </tr>\n",
              "  </tbody>\n",
              "</table>\n",
              "<p>87 rows × 2 columns</p>\n",
              "</div>"
            ],
            "text/plain": [
              "                                Country  TB deaths\n",
              "0                           Afghanistan    13000.0\n",
              "2                               Algeria     5100.0\n",
              "4                                Angola     6900.0\n",
              "6                             Argentina      570.0\n",
              "8                             Australia       45.0\n",
              "..                                  ...        ...\n",
              "189  Venezuela (Bolivarian Republic of)      480.0\n",
              "190                            Viet Nam    17000.0\n",
              "191                               Yemen      990.0\n",
              "192                              Zambia     3600.0\n",
              "193                            Zimbabwe     5700.0\n",
              "\n",
              "[87 rows x 2 columns]"
            ]
          },
          "metadata": {
            "tags": []
          },
          "execution_count": 33
        }
      ]
    },
    {
      "cell_type": "code",
      "metadata": {
        "id": "QILd4I69LPnc",
        "colab_type": "code",
        "colab": {
          "base_uri": "https://localhost:8080/",
          "height": 607
        },
        "outputId": "e532e6f3-9d38-4c5c-f6a8-e9312508ae79"
      },
      "source": [
        "#returns the detailsof the country where population is greater than 50000 and death toll  > 1000.\n",
        "population = df['Population (1000s)'] #you can assign a dataframe to avoid complex expression.\n",
        "deaths = df['TB deaths']\n",
        "df[(population > 50000) & (deaths > 1000)]"
      ],
      "execution_count": 35,
      "outputs": [
        {
          "output_type": "execute_result",
          "data": {
            "text/html": [
              "<div>\n",
              "<style scoped>\n",
              "    .dataframe tbody tr th:only-of-type {\n",
              "        vertical-align: middle;\n",
              "    }\n",
              "\n",
              "    .dataframe tbody tr th {\n",
              "        vertical-align: top;\n",
              "    }\n",
              "\n",
              "    .dataframe thead th {\n",
              "        text-align: right;\n",
              "    }\n",
              "</style>\n",
              "<table border=\"1\" class=\"dataframe\">\n",
              "  <thead>\n",
              "    <tr style=\"text-align: right;\">\n",
              "      <th></th>\n",
              "      <th>Country</th>\n",
              "      <th>Population (1000s)</th>\n",
              "      <th>TB deaths</th>\n",
              "    </tr>\n",
              "  </thead>\n",
              "  <tbody>\n",
              "    <tr>\n",
              "      <th>13</th>\n",
              "      <td>Bangladesh</td>\n",
              "      <td>156595</td>\n",
              "      <td>80000.0</td>\n",
              "    </tr>\n",
              "    <tr>\n",
              "      <th>23</th>\n",
              "      <td>Brazil</td>\n",
              "      <td>200362</td>\n",
              "      <td>4400.0</td>\n",
              "    </tr>\n",
              "    <tr>\n",
              "      <th>36</th>\n",
              "      <td>China</td>\n",
              "      <td>1393337</td>\n",
              "      <td>41000.0</td>\n",
              "    </tr>\n",
              "    <tr>\n",
              "      <th>47</th>\n",
              "      <td>Democratic Republic of the Congo</td>\n",
              "      <td>67514</td>\n",
              "      <td>46000.0</td>\n",
              "    </tr>\n",
              "    <tr>\n",
              "      <th>58</th>\n",
              "      <td>Ethiopia</td>\n",
              "      <td>94101</td>\n",
              "      <td>30000.0</td>\n",
              "    </tr>\n",
              "    <tr>\n",
              "      <th>77</th>\n",
              "      <td>India</td>\n",
              "      <td>1252140</td>\n",
              "      <td>240000.0</td>\n",
              "    </tr>\n",
              "    <tr>\n",
              "      <th>78</th>\n",
              "      <td>Indonesia</td>\n",
              "      <td>249866</td>\n",
              "      <td>64000.0</td>\n",
              "    </tr>\n",
              "    <tr>\n",
              "      <th>79</th>\n",
              "      <td>Iran (Islamic Republic of)</td>\n",
              "      <td>77447</td>\n",
              "      <td>2500.0</td>\n",
              "    </tr>\n",
              "    <tr>\n",
              "      <th>85</th>\n",
              "      <td>Japan</td>\n",
              "      <td>127144</td>\n",
              "      <td>2100.0</td>\n",
              "    </tr>\n",
              "    <tr>\n",
              "      <th>109</th>\n",
              "      <td>Mexico</td>\n",
              "      <td>122332</td>\n",
              "      <td>2200.0</td>\n",
              "    </tr>\n",
              "    <tr>\n",
              "      <th>116</th>\n",
              "      <td>Myanmar</td>\n",
              "      <td>53259</td>\n",
              "      <td>26000.0</td>\n",
              "    </tr>\n",
              "    <tr>\n",
              "      <th>124</th>\n",
              "      <td>Nigeria</td>\n",
              "      <td>173615</td>\n",
              "      <td>160000.0</td>\n",
              "    </tr>\n",
              "    <tr>\n",
              "      <th>128</th>\n",
              "      <td>Pakistan</td>\n",
              "      <td>182143</td>\n",
              "      <td>49000.0</td>\n",
              "    </tr>\n",
              "    <tr>\n",
              "      <th>134</th>\n",
              "      <td>Philippines</td>\n",
              "      <td>98394</td>\n",
              "      <td>27000.0</td>\n",
              "    </tr>\n",
              "    <tr>\n",
              "      <th>141</th>\n",
              "      <td>Russian Federation</td>\n",
              "      <td>142834</td>\n",
              "      <td>17000.0</td>\n",
              "    </tr>\n",
              "    <tr>\n",
              "      <th>159</th>\n",
              "      <td>South Africa</td>\n",
              "      <td>52776</td>\n",
              "      <td>25000.0</td>\n",
              "    </tr>\n",
              "    <tr>\n",
              "      <th>170</th>\n",
              "      <td>Thailand</td>\n",
              "      <td>67010</td>\n",
              "      <td>8100.0</td>\n",
              "    </tr>\n",
              "    <tr>\n",
              "      <th>190</th>\n",
              "      <td>Viet Nam</td>\n",
              "      <td>91680</td>\n",
              "      <td>17000.0</td>\n",
              "    </tr>\n",
              "  </tbody>\n",
              "</table>\n",
              "</div>"
            ],
            "text/plain": [
              "                              Country  Population (1000s)  TB deaths\n",
              "13                         Bangladesh              156595    80000.0\n",
              "23                             Brazil              200362     4400.0\n",
              "36                              China             1393337    41000.0\n",
              "47   Democratic Republic of the Congo               67514    46000.0\n",
              "58                           Ethiopia               94101    30000.0\n",
              "77                              India             1252140   240000.0\n",
              "78                          Indonesia              249866    64000.0\n",
              "79         Iran (Islamic Republic of)               77447     2500.0\n",
              "85                              Japan              127144     2100.0\n",
              "109                            Mexico              122332     2200.0\n",
              "116                           Myanmar               53259    26000.0\n",
              "124                           Nigeria              173615   160000.0\n",
              "128                          Pakistan              182143    49000.0\n",
              "134                       Philippines               98394    27000.0\n",
              "141                Russian Federation              142834    17000.0\n",
              "159                      South Africa               52776    25000.0\n",
              "170                          Thailand               67010     8100.0\n",
              "190                          Viet Nam               91680    17000.0"
            ]
          },
          "metadata": {
            "tags": []
          },
          "execution_count": 35
        }
      ]
    },
    {
      "cell_type": "code",
      "metadata": {
        "id": "bXT_oBMxMM-g",
        "colab_type": "code",
        "colab": {
          "base_uri": "https://localhost:8080/",
          "height": 359
        },
        "outputId": "888cee4a-9f22-4da0-feb6-9dd0e2d7c61b"
      },
      "source": [
        "#To get the top 10 most affected countries by TB this will appear in the reverse order. \n",
        "sorted_df = df.sort_values('TB deaths')\n",
        "sorted_df[['Country', 'TB deaths']].tail(10)"
      ],
      "execution_count": 39,
      "outputs": [
        {
          "output_type": "execute_result",
          "data": {
            "text/html": [
              "<div>\n",
              "<style scoped>\n",
              "    .dataframe tbody tr th:only-of-type {\n",
              "        vertical-align: middle;\n",
              "    }\n",
              "\n",
              "    .dataframe tbody tr th {\n",
              "        vertical-align: top;\n",
              "    }\n",
              "\n",
              "    .dataframe thead th {\n",
              "        text-align: right;\n",
              "    }\n",
              "</style>\n",
              "<table border=\"1\" class=\"dataframe\">\n",
              "  <thead>\n",
              "    <tr style=\"text-align: right;\">\n",
              "      <th></th>\n",
              "      <th>Country</th>\n",
              "      <th>TB deaths</th>\n",
              "    </tr>\n",
              "  </thead>\n",
              "  <tbody>\n",
              "    <tr>\n",
              "      <th>116</th>\n",
              "      <td>Myanmar</td>\n",
              "      <td>26000.0</td>\n",
              "    </tr>\n",
              "    <tr>\n",
              "      <th>134</th>\n",
              "      <td>Philippines</td>\n",
              "      <td>27000.0</td>\n",
              "    </tr>\n",
              "    <tr>\n",
              "      <th>58</th>\n",
              "      <td>Ethiopia</td>\n",
              "      <td>30000.0</td>\n",
              "    </tr>\n",
              "    <tr>\n",
              "      <th>36</th>\n",
              "      <td>China</td>\n",
              "      <td>41000.0</td>\n",
              "    </tr>\n",
              "    <tr>\n",
              "      <th>47</th>\n",
              "      <td>Democratic Republic of the Congo</td>\n",
              "      <td>46000.0</td>\n",
              "    </tr>\n",
              "    <tr>\n",
              "      <th>128</th>\n",
              "      <td>Pakistan</td>\n",
              "      <td>49000.0</td>\n",
              "    </tr>\n",
              "    <tr>\n",
              "      <th>78</th>\n",
              "      <td>Indonesia</td>\n",
              "      <td>64000.0</td>\n",
              "    </tr>\n",
              "    <tr>\n",
              "      <th>13</th>\n",
              "      <td>Bangladesh</td>\n",
              "      <td>80000.0</td>\n",
              "    </tr>\n",
              "    <tr>\n",
              "      <th>124</th>\n",
              "      <td>Nigeria</td>\n",
              "      <td>160000.0</td>\n",
              "    </tr>\n",
              "    <tr>\n",
              "      <th>77</th>\n",
              "      <td>India</td>\n",
              "      <td>240000.0</td>\n",
              "    </tr>\n",
              "  </tbody>\n",
              "</table>\n",
              "</div>"
            ],
            "text/plain": [
              "                              Country  TB deaths\n",
              "116                           Myanmar    26000.0\n",
              "134                       Philippines    27000.0\n",
              "58                           Ethiopia    30000.0\n",
              "36                              China    41000.0\n",
              "47   Democratic Republic of the Congo    46000.0\n",
              "128                          Pakistan    49000.0\n",
              "78                          Indonesia    64000.0\n",
              "13                         Bangladesh    80000.0\n",
              "124                           Nigeria   160000.0\n",
              "77                              India   240000.0"
            ]
          },
          "metadata": {
            "tags": []
          },
          "execution_count": 39
        }
      ]
    },
    {
      "cell_type": "code",
      "metadata": {
        "id": "yBOhgSD_PYfE",
        "colab_type": "code",
        "colab": {
          "base_uri": "https://localhost:8080/",
          "height": 142
        },
        "outputId": "68672ec0-08ed-4534-94c5-f6e430471e89"
      },
      "source": [
        "# Demo Exercise\n",
        "#Return a number of rows where country name only starts with 'c' and population < 1000 \n",
        "country = df['Country']\n",
        "df[(country >= 'C') & (country < 'D') & (population < 1000)]"
      ],
      "execution_count": 45,
      "outputs": [
        {
          "output_type": "execute_result",
          "data": {
            "text/html": [
              "<div>\n",
              "<style scoped>\n",
              "    .dataframe tbody tr th:only-of-type {\n",
              "        vertical-align: middle;\n",
              "    }\n",
              "\n",
              "    .dataframe tbody tr th {\n",
              "        vertical-align: top;\n",
              "    }\n",
              "\n",
              "    .dataframe thead th {\n",
              "        text-align: right;\n",
              "    }\n",
              "</style>\n",
              "<table border=\"1\" class=\"dataframe\">\n",
              "  <thead>\n",
              "    <tr style=\"text-align: right;\">\n",
              "      <th></th>\n",
              "      <th>Country</th>\n",
              "      <th>Population (1000s)</th>\n",
              "      <th>TB deaths</th>\n",
              "    </tr>\n",
              "  </thead>\n",
              "  <tbody>\n",
              "    <tr>\n",
              "      <th>29</th>\n",
              "      <td>Cabo Verde</td>\n",
              "      <td>499</td>\n",
              "      <td>150.00</td>\n",
              "    </tr>\n",
              "    <tr>\n",
              "      <th>38</th>\n",
              "      <td>Comoros</td>\n",
              "      <td>735</td>\n",
              "      <td>58.00</td>\n",
              "    </tr>\n",
              "    <tr>\n",
              "      <th>40</th>\n",
              "      <td>Cook Islands</td>\n",
              "      <td>21</td>\n",
              "      <td>0.41</td>\n",
              "    </tr>\n",
              "  </tbody>\n",
              "</table>\n",
              "</div>"
            ],
            "text/plain": [
              "         Country  Population (1000s)  TB deaths\n",
              "29    Cabo Verde                 499     150.00\n",
              "38       Comoros                 735      58.00\n",
              "40  Cook Islands                  21       0.41"
            ]
          },
          "metadata": {
            "tags": []
          },
          "execution_count": 45
        }
      ]
    },
    {
      "cell_type": "markdown",
      "metadata": {
        "id": "kScaApVbRfWG",
        "colab_type": "text"
      },
      "source": [
        "# Exercise -1\n",
        "Practice by making a copy of this notebook using File -> saveacopy in drive on google colab.\n",
        "* <b>Question -1:</b> Print a dataframe where TB deaths are minimum, maximum.\n",
        "* <b>Question -2:</b> print a maximum TB Deaths along with country name where Country name starts with only M. "
      ]
    }
  ]
}