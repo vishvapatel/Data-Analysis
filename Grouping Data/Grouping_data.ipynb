{
  "nbformat": 4,
  "nbformat_minor": 0,
  "metadata": {
    "colab": {
      "name": "Grouping_data.ipynb",
      "provenance": [],
      "toc_visible": true
    },
    "kernelspec": {
      "name": "python3",
      "display_name": "Python 3"
    }
  },
  "cells": [
    {
      "cell_type": "markdown",
      "metadata": {
        "id": "DoleocrAzMsA",
        "colab_type": "text"
      },
      "source": [
        "# Grouping Data\n",
        "*This modulewe will learn how we can find out many different answers to quesions using just one dataset span across multiple parameters.\n",
        "## Contents\n",
        "  * Downloading data\n",
        "  * How to group on different parameters for multiple results.\n",
        "  * Getting the Comtrade Data\n",
        "  * Pattern of Split-Apply-Combine\n",
        "  * Filtering the data\n"
      ]
    },
    {
      "cell_type": "code",
      "metadata": {
        "id": "i544vm9avDZp",
        "colab_type": "code",
        "colab": {}
      },
      "source": [
        "import pandas as pd\n",
        "import warnings\n",
        "warnings.simplefilter('ignore')"
      ],
      "execution_count": 0,
      "outputs": []
    },
    {
      "cell_type": "markdown",
      "metadata": {
        "id": "37eW1eL0z8Ct",
        "colab_type": "text"
      },
      "source": [
        "## Downloading Data\n",
        "* We are going to download using pandas <pre>download()</pre> \n",
        "* The GDP of UK, China from the year 2008 to 2013."
      ]
    },
    {
      "cell_type": "code",
      "metadata": {
        "id": "1fgLZiwnvVwL",
        "colab_type": "code",
        "outputId": "358eb451-54c2-47b0-c2cb-8fc0d3e6cb7e",
        "colab": {
          "base_uri": "https://localhost:8080/",
          "height": 417
        }
      },
      "source": [
        "from pandas_datareader import wb\n",
        "YEAR = 2013 #Constant variables.\n",
        "GDP_INDICATOR = 'NY.GDP.MKTP.CD'\n",
        "data = wb.download(indicator = GDP_INDICATOR, country=['GB','CN'], start=YEAR-5, end=YEAR) \n",
        "data = data.reset_index() #reseting index will reset the indexex into columns.\n",
        "data"
      ],
      "execution_count": 0,
      "outputs": [
        {
          "output_type": "execute_result",
          "data": {
            "text/html": [
              "<div>\n",
              "<style scoped>\n",
              "    .dataframe tbody tr th:only-of-type {\n",
              "        vertical-align: middle;\n",
              "    }\n",
              "\n",
              "    .dataframe tbody tr th {\n",
              "        vertical-align: top;\n",
              "    }\n",
              "\n",
              "    .dataframe thead th {\n",
              "        text-align: right;\n",
              "    }\n",
              "</style>\n",
              "<table border=\"1\" class=\"dataframe\">\n",
              "  <thead>\n",
              "    <tr style=\"text-align: right;\">\n",
              "      <th></th>\n",
              "      <th>country</th>\n",
              "      <th>year</th>\n",
              "      <th>NY.GDP.MKTP.CD</th>\n",
              "    </tr>\n",
              "  </thead>\n",
              "  <tbody>\n",
              "    <tr>\n",
              "      <th>0</th>\n",
              "      <td>China</td>\n",
              "      <td>2013</td>\n",
              "      <td>9.570406e+12</td>\n",
              "    </tr>\n",
              "    <tr>\n",
              "      <th>1</th>\n",
              "      <td>China</td>\n",
              "      <td>2012</td>\n",
              "      <td>8.532231e+12</td>\n",
              "    </tr>\n",
              "    <tr>\n",
              "      <th>2</th>\n",
              "      <td>China</td>\n",
              "      <td>2011</td>\n",
              "      <td>7.551500e+12</td>\n",
              "    </tr>\n",
              "    <tr>\n",
              "      <th>3</th>\n",
              "      <td>China</td>\n",
              "      <td>2010</td>\n",
              "      <td>6.087165e+12</td>\n",
              "    </tr>\n",
              "    <tr>\n",
              "      <th>4</th>\n",
              "      <td>China</td>\n",
              "      <td>2009</td>\n",
              "      <td>5.101702e+12</td>\n",
              "    </tr>\n",
              "    <tr>\n",
              "      <th>5</th>\n",
              "      <td>China</td>\n",
              "      <td>2008</td>\n",
              "      <td>4.594307e+12</td>\n",
              "    </tr>\n",
              "    <tr>\n",
              "      <th>6</th>\n",
              "      <td>United Kingdom</td>\n",
              "      <td>2013</td>\n",
              "      <td>2.786023e+12</td>\n",
              "    </tr>\n",
              "    <tr>\n",
              "      <th>7</th>\n",
              "      <td>United Kingdom</td>\n",
              "      <td>2012</td>\n",
              "      <td>2.704888e+12</td>\n",
              "    </tr>\n",
              "    <tr>\n",
              "      <th>8</th>\n",
              "      <td>United Kingdom</td>\n",
              "      <td>2011</td>\n",
              "      <td>2.659310e+12</td>\n",
              "    </tr>\n",
              "    <tr>\n",
              "      <th>9</th>\n",
              "      <td>United Kingdom</td>\n",
              "      <td>2010</td>\n",
              "      <td>2.475244e+12</td>\n",
              "    </tr>\n",
              "    <tr>\n",
              "      <th>10</th>\n",
              "      <td>United Kingdom</td>\n",
              "      <td>2009</td>\n",
              "      <td>2.410910e+12</td>\n",
              "    </tr>\n",
              "    <tr>\n",
              "      <th>11</th>\n",
              "      <td>United Kingdom</td>\n",
              "      <td>2008</td>\n",
              "      <td>2.922667e+12</td>\n",
              "    </tr>\n",
              "  </tbody>\n",
              "</table>\n",
              "</div>"
            ],
            "text/plain": [
              "           country  year  NY.GDP.MKTP.CD\n",
              "0            China  2013    9.570406e+12\n",
              "1            China  2012    8.532231e+12\n",
              "2            China  2011    7.551500e+12\n",
              "3            China  2010    6.087165e+12\n",
              "4            China  2009    5.101702e+12\n",
              "5            China  2008    4.594307e+12\n",
              "6   United Kingdom  2013    2.786023e+12\n",
              "7   United Kingdom  2012    2.704888e+12\n",
              "8   United Kingdom  2011    2.659310e+12\n",
              "9   United Kingdom  2010    2.475244e+12\n",
              "10  United Kingdom  2009    2.410910e+12\n",
              "11  United Kingdom  2008    2.922667e+12"
            ]
          },
          "metadata": {
            "tags": []
          },
          "execution_count": 14
        }
      ]
    },
    {
      "cell_type": "markdown",
      "metadata": {
        "id": "g8Q6oiUp0ST5",
        "colab_type": "text"
      },
      "source": [
        "## Grouping Data\n",
        "* Grouping allows us to analyze data onto many frontiers.\n",
        "* We will use pandas's <pre>Groupby(<i>column_name</i>)</pre> for grouping data columns.\n",
        "* To apply aggregate functions on the data we will use <pre>pandas.Dataframe.<b>aggregate()</b></pre>"
      ]
    },
    {
      "cell_type": "code",
      "metadata": {
        "id": "PaU9vnA_wY2E",
        "colab_type": "code",
        "outputId": "96ac9fa9-c46a-4387-a567-26b5271648e5",
        "colab": {
          "base_uri": "https://localhost:8080/",
          "height": 86
        }
      },
      "source": [
        "#Find the total sum of GDP for each country over all the years.\n",
        "data.groupby('country')['NY.GDP.MKTP.CD'].aggregate(sum)"
      ],
      "execution_count": 0,
      "outputs": [
        {
          "output_type": "execute_result",
          "data": {
            "text/plain": [
              "country\n",
              "China             4.143731e+13\n",
              "United Kingdom    1.595904e+13\n",
              "Name: NY.GDP.MKTP.CD, dtype: float64"
            ]
          },
          "metadata": {
            "tags": []
          },
          "execution_count": 15
        }
      ]
    },
    {
      "cell_type": "code",
      "metadata": {
        "id": "3qdyxlatyXQf",
        "colab_type": "code",
        "outputId": "b17b6044-4bdf-48b9-afc1-8ff58505c663",
        "colab": {
          "base_uri": "https://localhost:8080/",
          "height": 156
        }
      },
      "source": [
        "#Total combined GDP of two countries in each year.\n",
        "data.groupby('year')[GDP_INDICATOR].aggregate(sum)"
      ],
      "execution_count": 0,
      "outputs": [
        {
          "output_type": "execute_result",
          "data": {
            "text/plain": [
              "year\n",
              "2008    7.516974e+12\n",
              "2009    7.512612e+12\n",
              "2010    8.562409e+12\n",
              "2011    1.021081e+13\n",
              "2012    1.123712e+13\n",
              "2013    1.235643e+13\n",
              "Name: NY.GDP.MKTP.CD, dtype: float64"
            ]
          },
          "metadata": {
            "tags": []
          },
          "execution_count": 16
        }
      ]
    },
    {
      "cell_type": "markdown",
      "metadata": {
        "id": "ju8cV7cd158B",
        "colab_type": "text"
      },
      "source": [
        "## Getting the Comtrade data\n",
        "* Comtrade database is UN's import export data base of the world.\n",
        "* You will learn to fetch data from the URL itself usning Comtrade API."
      ]
    },
    {
      "cell_type": "code",
      "metadata": {
        "id": "VlWgiBC7336D",
        "colab_type": "code",
        "colab": {}
      },
      "source": [
        "URL='http://comtrade.un.org/api/get?max=5000&type=C&freq=A&px=HS&ps=2014%2C2013%2C2012&r=826&p=all&rg=all&cc=0401%2C0402&fmt=csv'\n",
        "\n",
        "df=pd.read_csv(URL, dtype={'Commodity Code':str, 'Reporter Code':str}) #here Commodity code is given in str becaue it will return 401 for 0401 otherwise."
      ],
      "execution_count": 0,
      "outputs": []
    },
    {
      "cell_type": "code",
      "metadata": {
        "id": "jBRXhlYS4Lm1",
        "colab_type": "code",
        "colab": {}
      },
      "source": [
        "#To save a copy of this data file to your folder we use to_csv() function.\n",
        "df.to_csv('Data_copy.csv', index=False) # Index=false is to aviod pandas to assign its default index in the new file. \n",
        "#check the Files(Folder symbol) tab on the left hand side and you will find the copied file."
      ],
      "execution_count": 0,
      "outputs": []
    },
    {
      "cell_type": "code",
      "metadata": {
        "id": "xU3en-hZ9HEX",
        "colab_type": "code",
        "outputId": "5ba1af6c-b3fe-460d-8870-8a6a579a1cfd",
        "colab": {
          "base_uri": "https://localhost:8080/",
          "height": 534
        }
      },
      "source": [
        "df.head()"
      ],
      "execution_count": 0,
      "outputs": [
        {
          "output_type": "execute_result",
          "data": {
            "text/html": [
              "<div>\n",
              "<style scoped>\n",
              "    .dataframe tbody tr th:only-of-type {\n",
              "        vertical-align: middle;\n",
              "    }\n",
              "\n",
              "    .dataframe tbody tr th {\n",
              "        vertical-align: top;\n",
              "    }\n",
              "\n",
              "    .dataframe thead th {\n",
              "        text-align: right;\n",
              "    }\n",
              "</style>\n",
              "<table border=\"1\" class=\"dataframe\">\n",
              "  <thead>\n",
              "    <tr style=\"text-align: right;\">\n",
              "      <th></th>\n",
              "      <th>Classification</th>\n",
              "      <th>Year</th>\n",
              "      <th>Period</th>\n",
              "      <th>Period Desc.</th>\n",
              "      <th>Aggregate Level</th>\n",
              "      <th>Is Leaf Code</th>\n",
              "      <th>Trade Flow Code</th>\n",
              "      <th>Trade Flow</th>\n",
              "      <th>Reporter Code</th>\n",
              "      <th>Reporter</th>\n",
              "      <th>Reporter ISO</th>\n",
              "      <th>Partner Code</th>\n",
              "      <th>Partner</th>\n",
              "      <th>Partner ISO</th>\n",
              "      <th>2nd Partner Code</th>\n",
              "      <th>2nd Partner</th>\n",
              "      <th>2nd Partner ISO</th>\n",
              "      <th>Customs Proc. Code</th>\n",
              "      <th>Customs</th>\n",
              "      <th>Mode of Transport Code</th>\n",
              "      <th>Mode of Transport</th>\n",
              "      <th>Commodity Code</th>\n",
              "      <th>Commodity</th>\n",
              "      <th>Qty Unit Code</th>\n",
              "      <th>Qty Unit</th>\n",
              "      <th>Qty</th>\n",
              "      <th>Alt Qty Unit Code</th>\n",
              "      <th>Alt Qty Unit</th>\n",
              "      <th>Alt Qty</th>\n",
              "      <th>Netweight (kg)</th>\n",
              "      <th>Gross weight (kg)</th>\n",
              "      <th>Trade Value (US$)</th>\n",
              "      <th>CIF Trade Value (US$)</th>\n",
              "      <th>FOB Trade Value (US$)</th>\n",
              "      <th>Flag</th>\n",
              "    </tr>\n",
              "  </thead>\n",
              "  <tbody>\n",
              "    <tr>\n",
              "      <th>0</th>\n",
              "      <td>H4</td>\n",
              "      <td>2012</td>\n",
              "      <td>2012</td>\n",
              "      <td>2012</td>\n",
              "      <td>4</td>\n",
              "      <td>0</td>\n",
              "      <td>1</td>\n",
              "      <td>Import</td>\n",
              "      <td>826</td>\n",
              "      <td>United Kingdom</td>\n",
              "      <td>GBR</td>\n",
              "      <td>0</td>\n",
              "      <td>World</td>\n",
              "      <td>WLD</td>\n",
              "      <td>NaN</td>\n",
              "      <td>NaN</td>\n",
              "      <td>NaN</td>\n",
              "      <td>NaN</td>\n",
              "      <td>NaN</td>\n",
              "      <td>NaN</td>\n",
              "      <td>NaN</td>\n",
              "      <td>0401</td>\n",
              "      <td>Milk and cream; not concentrated, not containi...</td>\n",
              "      <td>8</td>\n",
              "      <td>Weight in kilograms</td>\n",
              "      <td>187245794</td>\n",
              "      <td>NaN</td>\n",
              "      <td>NaN</td>\n",
              "      <td>NaN</td>\n",
              "      <td>187245794</td>\n",
              "      <td>NaN</td>\n",
              "      <td>177458632</td>\n",
              "      <td>NaN</td>\n",
              "      <td>NaN</td>\n",
              "      <td>0</td>\n",
              "    </tr>\n",
              "    <tr>\n",
              "      <th>1</th>\n",
              "      <td>H4</td>\n",
              "      <td>2012</td>\n",
              "      <td>2012</td>\n",
              "      <td>2012</td>\n",
              "      <td>4</td>\n",
              "      <td>0</td>\n",
              "      <td>2</td>\n",
              "      <td>Export</td>\n",
              "      <td>826</td>\n",
              "      <td>United Kingdom</td>\n",
              "      <td>GBR</td>\n",
              "      <td>0</td>\n",
              "      <td>World</td>\n",
              "      <td>WLD</td>\n",
              "      <td>NaN</td>\n",
              "      <td>NaN</td>\n",
              "      <td>NaN</td>\n",
              "      <td>NaN</td>\n",
              "      <td>NaN</td>\n",
              "      <td>NaN</td>\n",
              "      <td>NaN</td>\n",
              "      <td>0401</td>\n",
              "      <td>Milk and cream; not concentrated, not containi...</td>\n",
              "      <td>8</td>\n",
              "      <td>Weight in kilograms</td>\n",
              "      <td>614271513</td>\n",
              "      <td>NaN</td>\n",
              "      <td>NaN</td>\n",
              "      <td>NaN</td>\n",
              "      <td>614271513</td>\n",
              "      <td>NaN</td>\n",
              "      <td>399077664</td>\n",
              "      <td>NaN</td>\n",
              "      <td>NaN</td>\n",
              "      <td>6</td>\n",
              "    </tr>\n",
              "    <tr>\n",
              "      <th>2</th>\n",
              "      <td>H4</td>\n",
              "      <td>2012</td>\n",
              "      <td>2012</td>\n",
              "      <td>2012</td>\n",
              "      <td>4</td>\n",
              "      <td>0</td>\n",
              "      <td>2</td>\n",
              "      <td>Export</td>\n",
              "      <td>826</td>\n",
              "      <td>United Kingdom</td>\n",
              "      <td>GBR</td>\n",
              "      <td>4</td>\n",
              "      <td>Afghanistan</td>\n",
              "      <td>AFG</td>\n",
              "      <td>NaN</td>\n",
              "      <td>NaN</td>\n",
              "      <td>NaN</td>\n",
              "      <td>NaN</td>\n",
              "      <td>NaN</td>\n",
              "      <td>NaN</td>\n",
              "      <td>NaN</td>\n",
              "      <td>0401</td>\n",
              "      <td>Milk and cream; not concentrated, not containi...</td>\n",
              "      <td>8</td>\n",
              "      <td>Weight in kilograms</td>\n",
              "      <td>33841</td>\n",
              "      <td>NaN</td>\n",
              "      <td>NaN</td>\n",
              "      <td>NaN</td>\n",
              "      <td>33841</td>\n",
              "      <td>NaN</td>\n",
              "      <td>70986</td>\n",
              "      <td>NaN</td>\n",
              "      <td>NaN</td>\n",
              "      <td>0</td>\n",
              "    </tr>\n",
              "    <tr>\n",
              "      <th>3</th>\n",
              "      <td>H4</td>\n",
              "      <td>2012</td>\n",
              "      <td>2012</td>\n",
              "      <td>2012</td>\n",
              "      <td>4</td>\n",
              "      <td>0</td>\n",
              "      <td>2</td>\n",
              "      <td>Export</td>\n",
              "      <td>826</td>\n",
              "      <td>United Kingdom</td>\n",
              "      <td>GBR</td>\n",
              "      <td>24</td>\n",
              "      <td>Angola</td>\n",
              "      <td>AGO</td>\n",
              "      <td>NaN</td>\n",
              "      <td>NaN</td>\n",
              "      <td>NaN</td>\n",
              "      <td>NaN</td>\n",
              "      <td>NaN</td>\n",
              "      <td>NaN</td>\n",
              "      <td>NaN</td>\n",
              "      <td>0401</td>\n",
              "      <td>Milk and cream; not concentrated, not containi...</td>\n",
              "      <td>8</td>\n",
              "      <td>Weight in kilograms</td>\n",
              "      <td>22247</td>\n",
              "      <td>NaN</td>\n",
              "      <td>NaN</td>\n",
              "      <td>NaN</td>\n",
              "      <td>22247</td>\n",
              "      <td>NaN</td>\n",
              "      <td>19448</td>\n",
              "      <td>NaN</td>\n",
              "      <td>NaN</td>\n",
              "      <td>0</td>\n",
              "    </tr>\n",
              "    <tr>\n",
              "      <th>4</th>\n",
              "      <td>H4</td>\n",
              "      <td>2012</td>\n",
              "      <td>2012</td>\n",
              "      <td>2012</td>\n",
              "      <td>4</td>\n",
              "      <td>0</td>\n",
              "      <td>2</td>\n",
              "      <td>Export</td>\n",
              "      <td>826</td>\n",
              "      <td>United Kingdom</td>\n",
              "      <td>GBR</td>\n",
              "      <td>36</td>\n",
              "      <td>Australia</td>\n",
              "      <td>AUS</td>\n",
              "      <td>NaN</td>\n",
              "      <td>NaN</td>\n",
              "      <td>NaN</td>\n",
              "      <td>NaN</td>\n",
              "      <td>NaN</td>\n",
              "      <td>NaN</td>\n",
              "      <td>NaN</td>\n",
              "      <td>0401</td>\n",
              "      <td>Milk and cream; not concentrated, not containi...</td>\n",
              "      <td>8</td>\n",
              "      <td>Weight in kilograms</td>\n",
              "      <td>960</td>\n",
              "      <td>NaN</td>\n",
              "      <td>NaN</td>\n",
              "      <td>NaN</td>\n",
              "      <td>960</td>\n",
              "      <td>NaN</td>\n",
              "      <td>13515</td>\n",
              "      <td>NaN</td>\n",
              "      <td>NaN</td>\n",
              "      <td>0</td>\n",
              "    </tr>\n",
              "  </tbody>\n",
              "</table>\n",
              "</div>"
            ],
            "text/plain": [
              "  Classification  Year  ...  FOB Trade Value (US$)  Flag\n",
              "0             H4  2012  ...                    NaN     0\n",
              "1             H4  2012  ...                    NaN     6\n",
              "2             H4  2012  ...                    NaN     0\n",
              "3             H4  2012  ...                    NaN     0\n",
              "4             H4  2012  ...                    NaN     0\n",
              "\n",
              "[5 rows x 35 columns]"
            ]
          },
          "metadata": {
            "tags": []
          },
          "execution_count": 20
        }
      ]
    },
    {
      "cell_type": "markdown",
      "metadata": {
        "id": "MOdEmflD9Qxr",
        "colab_type": "text"
      },
      "source": [
        "## Pattern of Split-apply-combine\n",
        "* To perform operations on hetereogenous dataset and to figure an answer to a particular question  then this pattern is used.\n",
        "* We create a smaller dataset for understanding."
      ]
    },
    {
      "cell_type": "code",
      "metadata": {
        "id": "v3Ah0KEe9QbI",
        "colab_type": "code",
        "outputId": "821b9f60-d740-4540-e416-c8fec47d4946",
        "colab": {
          "base_uri": "https://localhost:8080/",
          "height": 325
        }
      },
      "source": [
        "#Creating a smaller data\n",
        "data=[['A',10],['A',15],['A',5],['A',20],\n",
        "\n",
        "              ['B',10],['B',10],['B',5],\n",
        "\n",
        "              ['C',20],['C',30]] \n",
        "\n",
        "df=pd.DataFrame(data=data, columns=[\"Commodity\",\"Amount\"])\n",
        "df"
      ],
      "execution_count": 0,
      "outputs": [
        {
          "output_type": "execute_result",
          "data": {
            "text/html": [
              "<div>\n",
              "<style scoped>\n",
              "    .dataframe tbody tr th:only-of-type {\n",
              "        vertical-align: middle;\n",
              "    }\n",
              "\n",
              "    .dataframe tbody tr th {\n",
              "        vertical-align: top;\n",
              "    }\n",
              "\n",
              "    .dataframe thead th {\n",
              "        text-align: right;\n",
              "    }\n",
              "</style>\n",
              "<table border=\"1\" class=\"dataframe\">\n",
              "  <thead>\n",
              "    <tr style=\"text-align: right;\">\n",
              "      <th></th>\n",
              "      <th>Commodity</th>\n",
              "      <th>Amount</th>\n",
              "    </tr>\n",
              "  </thead>\n",
              "  <tbody>\n",
              "    <tr>\n",
              "      <th>0</th>\n",
              "      <td>A</td>\n",
              "      <td>10</td>\n",
              "    </tr>\n",
              "    <tr>\n",
              "      <th>1</th>\n",
              "      <td>A</td>\n",
              "      <td>15</td>\n",
              "    </tr>\n",
              "    <tr>\n",
              "      <th>2</th>\n",
              "      <td>A</td>\n",
              "      <td>5</td>\n",
              "    </tr>\n",
              "    <tr>\n",
              "      <th>3</th>\n",
              "      <td>A</td>\n",
              "      <td>20</td>\n",
              "    </tr>\n",
              "    <tr>\n",
              "      <th>4</th>\n",
              "      <td>B</td>\n",
              "      <td>10</td>\n",
              "    </tr>\n",
              "    <tr>\n",
              "      <th>5</th>\n",
              "      <td>B</td>\n",
              "      <td>10</td>\n",
              "    </tr>\n",
              "    <tr>\n",
              "      <th>6</th>\n",
              "      <td>B</td>\n",
              "      <td>5</td>\n",
              "    </tr>\n",
              "    <tr>\n",
              "      <th>7</th>\n",
              "      <td>C</td>\n",
              "      <td>20</td>\n",
              "    </tr>\n",
              "    <tr>\n",
              "      <th>8</th>\n",
              "      <td>C</td>\n",
              "      <td>30</td>\n",
              "    </tr>\n",
              "  </tbody>\n",
              "</table>\n",
              "</div>"
            ],
            "text/plain": [
              "  Commodity  Amount\n",
              "0         A      10\n",
              "1         A      15\n",
              "2         A       5\n",
              "3         A      20\n",
              "4         B      10\n",
              "5         B      10\n",
              "6         B       5\n",
              "7         C      20\n",
              "8         C      30"
            ]
          },
          "metadata": {
            "tags": []
          },
          "execution_count": 23
        }
      ]
    },
    {
      "cell_type": "code",
      "metadata": {
        "id": "WmV63mmN_EQb",
        "colab_type": "code",
        "outputId": "c1cbc9de-902d-442f-a6ad-184c5ff21839",
        "colab": {
          "base_uri": "https://localhost:8080/",
          "height": 34
        }
      },
      "source": [
        "#Splitting the data or grouping.\n",
        "grouped_data = df.groupby('Commodity')\n",
        "grouped_data"
      ],
      "execution_count": 0,
      "outputs": [
        {
          "output_type": "execute_result",
          "data": {
            "text/plain": [
              "<pandas.core.groupby.generic.DataFrameGroupBy object at 0x7f4233b6a1d0>"
            ]
          },
          "metadata": {
            "tags": []
          },
          "execution_count": 44
        }
      ]
    },
    {
      "cell_type": "code",
      "metadata": {
        "id": "LNFMHxxN_VDe",
        "colab_type": "code",
        "outputId": "faf446c2-dbdb-4b64-b0c6-ad2bbcaaca6d",
        "colab": {
          "base_uri": "https://localhost:8080/",
          "height": 34
        }
      },
      "source": [
        "#performing operations\n",
        "grouped_data.groups.keys()"
      ],
      "execution_count": 0,
      "outputs": [
        {
          "output_type": "execute_result",
          "data": {
            "text/plain": [
              "dict_keys(['A', 'B', 'C'])"
            ]
          },
          "metadata": {
            "tags": []
          },
          "execution_count": 33
        }
      ]
    },
    {
      "cell_type": "code",
      "metadata": {
        "id": "ycN6i5y1_-Bw",
        "colab_type": "code",
        "outputId": "6cc46a6c-3c36-4411-c159-6668f24134b5",
        "colab": {
          "base_uri": "https://localhost:8080/",
          "height": 172
        }
      },
      "source": [
        "grouped_data.get_group('A') #returns only A commodity data."
      ],
      "execution_count": 0,
      "outputs": [
        {
          "output_type": "execute_result",
          "data": {
            "text/html": [
              "<div>\n",
              "<style scoped>\n",
              "    .dataframe tbody tr th:only-of-type {\n",
              "        vertical-align: middle;\n",
              "    }\n",
              "\n",
              "    .dataframe tbody tr th {\n",
              "        vertical-align: top;\n",
              "    }\n",
              "\n",
              "    .dataframe thead th {\n",
              "        text-align: right;\n",
              "    }\n",
              "</style>\n",
              "<table border=\"1\" class=\"dataframe\">\n",
              "  <thead>\n",
              "    <tr style=\"text-align: right;\">\n",
              "      <th></th>\n",
              "      <th>Commodity</th>\n",
              "      <th>Amount</th>\n",
              "    </tr>\n",
              "  </thead>\n",
              "  <tbody>\n",
              "    <tr>\n",
              "      <th>0</th>\n",
              "      <td>A</td>\n",
              "      <td>10</td>\n",
              "    </tr>\n",
              "    <tr>\n",
              "      <th>1</th>\n",
              "      <td>A</td>\n",
              "      <td>15</td>\n",
              "    </tr>\n",
              "    <tr>\n",
              "      <th>2</th>\n",
              "      <td>A</td>\n",
              "      <td>5</td>\n",
              "    </tr>\n",
              "    <tr>\n",
              "      <th>3</th>\n",
              "      <td>A</td>\n",
              "      <td>20</td>\n",
              "    </tr>\n",
              "  </tbody>\n",
              "</table>\n",
              "</div>"
            ],
            "text/plain": [
              "  Commodity  Amount\n",
              "0         A      10\n",
              "1         A      15\n",
              "2         A       5\n",
              "3         A      20"
            ]
          },
          "metadata": {
            "tags": []
          },
          "execution_count": 34
        }
      ]
    },
    {
      "cell_type": "code",
      "metadata": {
        "id": "i3hoSmYUA2ws",
        "colab_type": "code",
        "outputId": "7bd1b010-e2b4-4d8f-f4a0-eaa41f4be6ef",
        "colab": {
          "base_uri": "https://localhost:8080/",
          "height": 172
        }
      },
      "source": [
        "#Applying the sumary or aggregation on the group.\n",
        "grouped_data.aggregate(sum) #this calculates the sum of each groupand combines the result in a flat table."
      ],
      "execution_count": 0,
      "outputs": [
        {
          "output_type": "execute_result",
          "data": {
            "text/html": [
              "<div>\n",
              "<style scoped>\n",
              "    .dataframe tbody tr th:only-of-type {\n",
              "        vertical-align: middle;\n",
              "    }\n",
              "\n",
              "    .dataframe tbody tr th {\n",
              "        vertical-align: top;\n",
              "    }\n",
              "\n",
              "    .dataframe thead th {\n",
              "        text-align: right;\n",
              "    }\n",
              "</style>\n",
              "<table border=\"1\" class=\"dataframe\">\n",
              "  <thead>\n",
              "    <tr style=\"text-align: right;\">\n",
              "      <th></th>\n",
              "      <th>Amount</th>\n",
              "    </tr>\n",
              "    <tr>\n",
              "      <th>Commodity</th>\n",
              "      <th></th>\n",
              "    </tr>\n",
              "  </thead>\n",
              "  <tbody>\n",
              "    <tr>\n",
              "      <th>A</th>\n",
              "      <td>50</td>\n",
              "    </tr>\n",
              "    <tr>\n",
              "      <th>B</th>\n",
              "      <td>25</td>\n",
              "    </tr>\n",
              "    <tr>\n",
              "      <th>C</th>\n",
              "      <td>50</td>\n",
              "    </tr>\n",
              "  </tbody>\n",
              "</table>\n",
              "</div>"
            ],
            "text/plain": [
              "           Amount\n",
              "Commodity        \n",
              "A              50\n",
              "B              25\n",
              "C              50"
            ]
          },
          "metadata": {
            "tags": []
          },
          "execution_count": 35
        }
      ]
    },
    {
      "cell_type": "code",
      "metadata": {
        "id": "MYKgCXozBfXl",
        "colab_type": "code",
        "outputId": "62f7251e-6bdc-4f0b-86aa-65a3a3d39e94",
        "colab": {
          "base_uri": "https://localhost:8080/",
          "height": 264
        }
      },
      "source": [
        "def top2ByAmount(g):\n",
        "  return g.sort_values('Amount', ascending=False).head(2) #Display only top 2 amounts.\n",
        "grouped_data.apply(top2ByAmount)"
      ],
      "execution_count": 0,
      "outputs": [
        {
          "output_type": "execute_result",
          "data": {
            "text/html": [
              "<div>\n",
              "<style scoped>\n",
              "    .dataframe tbody tr th:only-of-type {\n",
              "        vertical-align: middle;\n",
              "    }\n",
              "\n",
              "    .dataframe tbody tr th {\n",
              "        vertical-align: top;\n",
              "    }\n",
              "\n",
              "    .dataframe thead th {\n",
              "        text-align: right;\n",
              "    }\n",
              "</style>\n",
              "<table border=\"1\" class=\"dataframe\">\n",
              "  <thead>\n",
              "    <tr style=\"text-align: right;\">\n",
              "      <th></th>\n",
              "      <th></th>\n",
              "      <th>Amount</th>\n",
              "    </tr>\n",
              "    <tr>\n",
              "      <th>Commodity</th>\n",
              "      <th></th>\n",
              "      <th></th>\n",
              "    </tr>\n",
              "  </thead>\n",
              "  <tbody>\n",
              "    <tr>\n",
              "      <th rowspan=\"2\" valign=\"top\">A</th>\n",
              "      <th>3</th>\n",
              "      <td>20</td>\n",
              "    </tr>\n",
              "    <tr>\n",
              "      <th>1</th>\n",
              "      <td>15</td>\n",
              "    </tr>\n",
              "    <tr>\n",
              "      <th rowspan=\"2\" valign=\"top\">B</th>\n",
              "      <th>4</th>\n",
              "      <td>10</td>\n",
              "    </tr>\n",
              "    <tr>\n",
              "      <th>5</th>\n",
              "      <td>10</td>\n",
              "    </tr>\n",
              "    <tr>\n",
              "      <th rowspan=\"2\" valign=\"top\">C</th>\n",
              "      <th>8</th>\n",
              "      <td>30</td>\n",
              "    </tr>\n",
              "    <tr>\n",
              "      <th>7</th>\n",
              "      <td>20</td>\n",
              "    </tr>\n",
              "  </tbody>\n",
              "</table>\n",
              "</div>"
            ],
            "text/plain": [
              "             Amount\n",
              "Commodity          \n",
              "A         3      20\n",
              "          1      15\n",
              "B         4      10\n",
              "          5      10\n",
              "C         8      30\n",
              "          7      20"
            ]
          },
          "metadata": {
            "tags": []
          },
          "execution_count": 36
        }
      ]
    },
    {
      "cell_type": "markdown",
      "metadata": {
        "id": "kiHg5LJcC773",
        "colab_type": "text"
      },
      "source": [
        "## Filtering the data \n",
        "* Sometimes for analysis there is only a need of the subset of the data fromteh dataset.\n",
        "* There may be requirement of only that groups that satisfy some constraints.\n",
        "* For filtering pandas has <pre>filter()</pre>\n",
        "* The filter() method uses a function that returns a boolean ( True or False ) value to decide whether or not to filter through the rows associated with a particular group."
      ]
    },
    {
      "cell_type": "code",
      "metadata": {
        "id": "CaS__AupB70r",
        "colab_type": "code",
        "colab": {}
      },
      "source": [
        "#Getting the groups with atmost 3 rows.\n",
        "def groupsOfAtMost3Rows(g):\n",
        "  return len(g) <= 3"
      ],
      "execution_count": 0,
      "outputs": []
    },
    {
      "cell_type": "code",
      "metadata": {
        "id": "OVUicy-ZE-1M",
        "colab_type": "code",
        "outputId": "83ddb69c-4ed5-4d0d-c7a4-bced4e641169",
        "colab": {
          "base_uri": "https://localhost:8080/",
          "height": 172
        }
      },
      "source": [
        "grouped_data.aggregate(len)"
      ],
      "execution_count": 0,
      "outputs": [
        {
          "output_type": "execute_result",
          "data": {
            "text/html": [
              "<div>\n",
              "<style scoped>\n",
              "    .dataframe tbody tr th:only-of-type {\n",
              "        vertical-align: middle;\n",
              "    }\n",
              "\n",
              "    .dataframe tbody tr th {\n",
              "        vertical-align: top;\n",
              "    }\n",
              "\n",
              "    .dataframe thead th {\n",
              "        text-align: right;\n",
              "    }\n",
              "</style>\n",
              "<table border=\"1\" class=\"dataframe\">\n",
              "  <thead>\n",
              "    <tr style=\"text-align: right;\">\n",
              "      <th></th>\n",
              "      <th>Amount</th>\n",
              "    </tr>\n",
              "    <tr>\n",
              "      <th>Commodity</th>\n",
              "      <th></th>\n",
              "    </tr>\n",
              "  </thead>\n",
              "  <tbody>\n",
              "    <tr>\n",
              "      <th>A</th>\n",
              "      <td>4</td>\n",
              "    </tr>\n",
              "    <tr>\n",
              "      <th>B</th>\n",
              "      <td>3</td>\n",
              "    </tr>\n",
              "    <tr>\n",
              "      <th>C</th>\n",
              "      <td>2</td>\n",
              "    </tr>\n",
              "  </tbody>\n",
              "</table>\n",
              "</div>"
            ],
            "text/plain": [
              "           Amount\n",
              "Commodity        \n",
              "A               4\n",
              "B               3\n",
              "C               2"
            ]
          },
          "metadata": {
            "tags": []
          },
          "execution_count": 45
        }
      ]
    },
    {
      "cell_type": "code",
      "metadata": {
        "id": "ZIZUiZ85FDlE",
        "colab_type": "code",
        "outputId": "3eeb0d44-e599-4f91-b6d5-4551d3f0d311",
        "colab": {
          "base_uri": "https://localhost:8080/",
          "height": 202
        }
      },
      "source": [
        "grouped_data.filter(groupsOfAtMost3Rows)"
      ],
      "execution_count": 0,
      "outputs": [
        {
          "output_type": "execute_result",
          "data": {
            "text/html": [
              "<div>\n",
              "<style scoped>\n",
              "    .dataframe tbody tr th:only-of-type {\n",
              "        vertical-align: middle;\n",
              "    }\n",
              "\n",
              "    .dataframe tbody tr th {\n",
              "        vertical-align: top;\n",
              "    }\n",
              "\n",
              "    .dataframe thead th {\n",
              "        text-align: right;\n",
              "    }\n",
              "</style>\n",
              "<table border=\"1\" class=\"dataframe\">\n",
              "  <thead>\n",
              "    <tr style=\"text-align: right;\">\n",
              "      <th></th>\n",
              "      <th>Commodity</th>\n",
              "      <th>Amount</th>\n",
              "    </tr>\n",
              "  </thead>\n",
              "  <tbody>\n",
              "    <tr>\n",
              "      <th>4</th>\n",
              "      <td>B</td>\n",
              "      <td>10</td>\n",
              "    </tr>\n",
              "    <tr>\n",
              "      <th>5</th>\n",
              "      <td>B</td>\n",
              "      <td>10</td>\n",
              "    </tr>\n",
              "    <tr>\n",
              "      <th>6</th>\n",
              "      <td>B</td>\n",
              "      <td>5</td>\n",
              "    </tr>\n",
              "    <tr>\n",
              "      <th>7</th>\n",
              "      <td>C</td>\n",
              "      <td>20</td>\n",
              "    </tr>\n",
              "    <tr>\n",
              "      <th>8</th>\n",
              "      <td>C</td>\n",
              "      <td>30</td>\n",
              "    </tr>\n",
              "  </tbody>\n",
              "</table>\n",
              "</div>"
            ],
            "text/plain": [
              "  Commodity  Amount\n",
              "4         B      10\n",
              "5         B      10\n",
              "6         B       5\n",
              "7         C      20\n",
              "8         C      30"
            ]
          },
          "metadata": {
            "tags": []
          },
          "execution_count": 46
        }
      ]
    }
  ]
}