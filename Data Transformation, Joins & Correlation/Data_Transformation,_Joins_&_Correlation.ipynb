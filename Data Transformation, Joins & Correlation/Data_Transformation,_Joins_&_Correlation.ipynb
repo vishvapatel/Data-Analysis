{
  "nbformat": 4,
  "nbformat_minor": 0,
  "metadata": {
    "colab": {
      "name": "Data Transformation, Joins & Correlation.ipynb",
      "provenance": [],
      "collapsed_sections": []
    },
    "kernelspec": {
      "name": "python3",
      "display_name": "Python 3"
    }
  },
  "cells": [
    {
      "cell_type": "markdown",
      "metadata": {
        "id": "oMvM4RKit1FS",
        "colab_type": "text"
      },
      "source": [
        "# Data Transformation\n",
        "## Contents\n",
        "1. Creating the Data\n"
      ]
    },
    {
      "cell_type": "code",
      "metadata": {
        "id": "Ev_WOiQhsUz5",
        "colab_type": "code",
        "colab": {}
      },
      "source": [
        "#Importing the library and removing the unwanted errors\n",
        "import pandas as pd\n",
        "import warnings\n",
        "warnings.simplefilter('ignore')"
      ],
      "execution_count": 0,
      "outputs": []
    },
    {
      "cell_type": "markdown",
      "metadata": {
        "id": "mQm3wLzRuZG9",
        "colab_type": "text"
      },
      "source": [
        "## Creating the Data\n",
        "* To understand the concepts we will work on small dataset. This time we will create our own data set.\n",
        "* The simplest way to create dataset is to use list concept of python.\n",
        "* Every list under the lsit wll represent every row & comma seperates the data column wise.\n",
        "* Here we create two datasets:\n",
        " * GDP of countries.\n",
        " * Life expectancy of countries.\n",
        "* We will then find answers to questions by analysing data.\n"
      ]
    },
    {
      "cell_type": "code",
      "metadata": {
        "id": "CJcBa6WTuWKu",
        "colab_type": "code",
        "outputId": "18e5e80b-eb78-4d8d-ea9b-9fd17815a758",
        "colab": {
          "base_uri": "https://localhost:8080/",
          "height": 264
        }
      },
      "source": [
        "#Creating GDP Dataset\n",
        "table = [\n",
        "\n",
        "['UK', 2678454886796.7], \n",
        "\n",
        "['USA', 16768100000000.0], \n",
        "\n",
        "['China', 9240270452047.0], \n",
        "\n",
        "['Brazil', 2245673032353.8],\n",
        "\n",
        "['South Africa', 366057913367.1],\n",
        "\n",
        "['India', 25000000000.345],\n",
        "\n",
        "['Russia', 40575984903.67]\n",
        "\n",
        "]\n",
        "headings = ['country', 'GDP (US$)']\n",
        "gdp = pd.DataFrame(columns=headings, data=table)\n",
        "gdp"
      ],
      "execution_count": 31,
      "outputs": [
        {
          "output_type": "execute_result",
          "data": {
            "text/html": [
              "<div>\n",
              "<style scoped>\n",
              "    .dataframe tbody tr th:only-of-type {\n",
              "        vertical-align: middle;\n",
              "    }\n",
              "\n",
              "    .dataframe tbody tr th {\n",
              "        vertical-align: top;\n",
              "    }\n",
              "\n",
              "    .dataframe thead th {\n",
              "        text-align: right;\n",
              "    }\n",
              "</style>\n",
              "<table border=\"1\" class=\"dataframe\">\n",
              "  <thead>\n",
              "    <tr style=\"text-align: right;\">\n",
              "      <th></th>\n",
              "      <th>country</th>\n",
              "      <th>GDP (US$)</th>\n",
              "    </tr>\n",
              "  </thead>\n",
              "  <tbody>\n",
              "    <tr>\n",
              "      <th>0</th>\n",
              "      <td>UK</td>\n",
              "      <td>2.678455e+12</td>\n",
              "    </tr>\n",
              "    <tr>\n",
              "      <th>1</th>\n",
              "      <td>USA</td>\n",
              "      <td>1.676810e+13</td>\n",
              "    </tr>\n",
              "    <tr>\n",
              "      <th>2</th>\n",
              "      <td>China</td>\n",
              "      <td>9.240270e+12</td>\n",
              "    </tr>\n",
              "    <tr>\n",
              "      <th>3</th>\n",
              "      <td>Brazil</td>\n",
              "      <td>2.245673e+12</td>\n",
              "    </tr>\n",
              "    <tr>\n",
              "      <th>4</th>\n",
              "      <td>South Africa</td>\n",
              "      <td>3.660579e+11</td>\n",
              "    </tr>\n",
              "    <tr>\n",
              "      <th>5</th>\n",
              "      <td>India</td>\n",
              "      <td>2.500000e+10</td>\n",
              "    </tr>\n",
              "    <tr>\n",
              "      <th>6</th>\n",
              "      <td>Russia</td>\n",
              "      <td>4.057598e+10</td>\n",
              "    </tr>\n",
              "  </tbody>\n",
              "</table>\n",
              "</div>"
            ],
            "text/plain": [
              "        country     GDP (US$)\n",
              "0            UK  2.678455e+12\n",
              "1           USA  1.676810e+13\n",
              "2         China  9.240270e+12\n",
              "3        Brazil  2.245673e+12\n",
              "4  South Africa  3.660579e+11\n",
              "5         India  2.500000e+10\n",
              "6        Russia  4.057598e+10"
            ]
          },
          "metadata": {
            "tags": []
          },
          "execution_count": 31
        }
      ]
    },
    {
      "cell_type": "code",
      "metadata": {
        "id": "XRi8ehcSxKv3",
        "colab_type": "code",
        "outputId": "aba54a46-c56a-4cae-f886-d1f7c0813692",
        "colab": {
          "base_uri": "https://localhost:8080/",
          "height": 264
        }
      },
      "source": [
        "headings = ['Country name', 'Life expectancy (years)']\n",
        "\n",
        "table = [\n",
        "\n",
        "['China', 75],\n",
        "\n",
        "['Russia', 71],\n",
        "\n",
        "['United States of America', 79],\n",
        "\n",
        "['India', 66],\n",
        "\n",
        "['United Kingdom', 81],\n",
        "\n",
        "['Brazil', 58],\n",
        "\n",
        "['South Africa', 72]\n",
        "\n",
        "]\n",
        "life_expectancy = pd.DataFrame(columns=headings, data=table)\n",
        "life_expectancy"
      ],
      "execution_count": 32,
      "outputs": [
        {
          "output_type": "execute_result",
          "data": {
            "text/html": [
              "<div>\n",
              "<style scoped>\n",
              "    .dataframe tbody tr th:only-of-type {\n",
              "        vertical-align: middle;\n",
              "    }\n",
              "\n",
              "    .dataframe tbody tr th {\n",
              "        vertical-align: top;\n",
              "    }\n",
              "\n",
              "    .dataframe thead th {\n",
              "        text-align: right;\n",
              "    }\n",
              "</style>\n",
              "<table border=\"1\" class=\"dataframe\">\n",
              "  <thead>\n",
              "    <tr style=\"text-align: right;\">\n",
              "      <th></th>\n",
              "      <th>Country name</th>\n",
              "      <th>Life expectancy (years)</th>\n",
              "    </tr>\n",
              "  </thead>\n",
              "  <tbody>\n",
              "    <tr>\n",
              "      <th>0</th>\n",
              "      <td>China</td>\n",
              "      <td>75</td>\n",
              "    </tr>\n",
              "    <tr>\n",
              "      <th>1</th>\n",
              "      <td>Russia</td>\n",
              "      <td>71</td>\n",
              "    </tr>\n",
              "    <tr>\n",
              "      <th>2</th>\n",
              "      <td>United States of America</td>\n",
              "      <td>79</td>\n",
              "    </tr>\n",
              "    <tr>\n",
              "      <th>3</th>\n",
              "      <td>India</td>\n",
              "      <td>66</td>\n",
              "    </tr>\n",
              "    <tr>\n",
              "      <th>4</th>\n",
              "      <td>United Kingdom</td>\n",
              "      <td>81</td>\n",
              "    </tr>\n",
              "    <tr>\n",
              "      <th>5</th>\n",
              "      <td>Brazil</td>\n",
              "      <td>58</td>\n",
              "    </tr>\n",
              "    <tr>\n",
              "      <th>6</th>\n",
              "      <td>South Africa</td>\n",
              "      <td>72</td>\n",
              "    </tr>\n",
              "  </tbody>\n",
              "</table>\n",
              "</div>"
            ],
            "text/plain": [
              "               Country name  Life expectancy (years)\n",
              "0                     China                       75\n",
              "1                    Russia                       71\n",
              "2  United States of America                       79\n",
              "3                     India                       66\n",
              "4            United Kingdom                       81\n",
              "5                    Brazil                       58\n",
              "6              South Africa                       72"
            ]
          },
          "metadata": {
            "tags": []
          },
          "execution_count": 32
        }
      ]
    },
    {
      "cell_type": "markdown",
      "metadata": {
        "id": "1qw_-UQB_V0n",
        "colab_type": "text"
      },
      "source": [
        "## Transforming Data\n",
        "* We want to transform the GDP amount to the nearest millions to simplify the data readability.\n",
        "* Therefore, we create function/method in python that will <b>round</b> the amount into nearest millions.\n",
        "* If you dont want to return anything you can use: <pre>return None</pre>\n",
        "* The built-in method <pre>round()</pre>rounds the value according to the BODMAS rules.\n",
        "* We add one more method that expands the country names. \n",
        "for eg: USA-United States of America."
      ]
    },
    {
      "cell_type": "code",
      "metadata": {
        "id": "zc054tSE_Ufb",
        "colab_type": "code",
        "colab": {}
      },
      "source": [
        "#User defined function that convertsamount to its nearest millions. \n",
        "def roundToMillions(value):\n",
        "  result = round(value / 1000000)\n",
        "  return result"
      ],
      "execution_count": 0,
      "outputs": []
    },
    {
      "cell_type": "code",
      "metadata": {
        "id": "I43VQN9xCWWo",
        "colab_type": "code",
        "colab": {}
      },
      "source": [
        "#Function that abrrevates the acronym.\n",
        "def expandCountry(name):\n",
        "  if name == \"USA\":\n",
        "    return \"United States of America\"\n",
        "  elif name == \"UK\":\n",
        "    return \"United Kingdom\"\n",
        "  else:\n",
        "    return name"
      ],
      "execution_count": 0,
      "outputs": []
    },
    {
      "cell_type": "code",
      "metadata": {
        "id": "ZiUHP2O2EWce",
        "colab_type": "code",
        "colab": {}
      },
      "source": [
        "#Convert the currency from US$ to UKpounds.\n",
        "def ustoGbp(usd):\n",
        "  pounds = usd/1.564768 #aerage rate in 2013\n",
        "  return pounds"
      ],
      "execution_count": 0,
      "outputs": []
    },
    {
      "cell_type": "markdown",
      "metadata": {
        "id": "qbwW2lKSDGxS",
        "colab_type": "text"
      },
      "source": [
        "## Applying functions\n",
        "* Lets look how we can use this functions for the columns in the dataset.\n",
        "* We will use the function <pre>column.apply(<i>function_name</i>)</pre> to apply the user defined function to the particular column."
      ]
    },
    {
      "cell_type": "code",
      "metadata": {
        "id": "Il4mDTWeDsBy",
        "colab_type": "code",
        "outputId": "0c1cabfc-6c45-4860-c8e6-ddfcc5ed1db7",
        "colab": {
          "base_uri": "https://localhost:8080/",
          "height": 264
        }
      },
      "source": [
        "column = gdp['country'] #Assigning the column to the variable.\n",
        "gdp['Country name'] = column.apply(expandCountry)\n",
        "gdp"
      ],
      "execution_count": 36,
      "outputs": [
        {
          "output_type": "execute_result",
          "data": {
            "text/html": [
              "<div>\n",
              "<style scoped>\n",
              "    .dataframe tbody tr th:only-of-type {\n",
              "        vertical-align: middle;\n",
              "    }\n",
              "\n",
              "    .dataframe tbody tr th {\n",
              "        vertical-align: top;\n",
              "    }\n",
              "\n",
              "    .dataframe thead th {\n",
              "        text-align: right;\n",
              "    }\n",
              "</style>\n",
              "<table border=\"1\" class=\"dataframe\">\n",
              "  <thead>\n",
              "    <tr style=\"text-align: right;\">\n",
              "      <th></th>\n",
              "      <th>country</th>\n",
              "      <th>GDP (US$)</th>\n",
              "      <th>Country name</th>\n",
              "    </tr>\n",
              "  </thead>\n",
              "  <tbody>\n",
              "    <tr>\n",
              "      <th>0</th>\n",
              "      <td>UK</td>\n",
              "      <td>2.678455e+12</td>\n",
              "      <td>United Kingdom</td>\n",
              "    </tr>\n",
              "    <tr>\n",
              "      <th>1</th>\n",
              "      <td>USA</td>\n",
              "      <td>1.676810e+13</td>\n",
              "      <td>United States of America</td>\n",
              "    </tr>\n",
              "    <tr>\n",
              "      <th>2</th>\n",
              "      <td>China</td>\n",
              "      <td>9.240270e+12</td>\n",
              "      <td>China</td>\n",
              "    </tr>\n",
              "    <tr>\n",
              "      <th>3</th>\n",
              "      <td>Brazil</td>\n",
              "      <td>2.245673e+12</td>\n",
              "      <td>Brazil</td>\n",
              "    </tr>\n",
              "    <tr>\n",
              "      <th>4</th>\n",
              "      <td>South Africa</td>\n",
              "      <td>3.660579e+11</td>\n",
              "      <td>South Africa</td>\n",
              "    </tr>\n",
              "    <tr>\n",
              "      <th>5</th>\n",
              "      <td>India</td>\n",
              "      <td>2.500000e+10</td>\n",
              "      <td>India</td>\n",
              "    </tr>\n",
              "    <tr>\n",
              "      <th>6</th>\n",
              "      <td>Russia</td>\n",
              "      <td>4.057598e+10</td>\n",
              "      <td>Russia</td>\n",
              "    </tr>\n",
              "  </tbody>\n",
              "</table>\n",
              "</div>"
            ],
            "text/plain": [
              "        country     GDP (US$)              Country name\n",
              "0            UK  2.678455e+12            United Kingdom\n",
              "1           USA  1.676810e+13  United States of America\n",
              "2         China  9.240270e+12                     China\n",
              "3        Brazil  2.245673e+12                    Brazil\n",
              "4  South Africa  3.660579e+11              South Africa\n",
              "5         India  2.500000e+10                     India\n",
              "6        Russia  4.057598e+10                    Russia"
            ]
          },
          "metadata": {
            "tags": []
          },
          "execution_count": 36
        }
      ]
    },
    {
      "cell_type": "code",
      "metadata": {
        "id": "twnx7mlzo-pL",
        "colab_type": "code",
        "colab": {}
      },
      "source": [
        "column = gdp['GDP (US$)']\n",
        "gdp['GDP (pounds in Millions)'] = column.apply(ustoGbp).apply(roundToMillions) "
      ],
      "execution_count": 0,
      "outputs": []
    },
    {
      "cell_type": "code",
      "metadata": {
        "id": "NyZwI7PrF8C4",
        "colab_type": "code",
        "outputId": "45666892-8461-40bc-8b36-bb7bdec71b24",
        "colab": {
          "base_uri": "https://localhost:8080/",
          "height": 264
        }
      },
      "source": [
        "#Selecting the new columns to handle data with.\n",
        "gdp_in_pounds = gdp[['Country name','GDP (pounds in Millions)']]\n",
        "gdp_in_pounds"
      ],
      "execution_count": 40,
      "outputs": [
        {
          "output_type": "execute_result",
          "data": {
            "text/html": [
              "<div>\n",
              "<style scoped>\n",
              "    .dataframe tbody tr th:only-of-type {\n",
              "        vertical-align: middle;\n",
              "    }\n",
              "\n",
              "    .dataframe tbody tr th {\n",
              "        vertical-align: top;\n",
              "    }\n",
              "\n",
              "    .dataframe thead th {\n",
              "        text-align: right;\n",
              "    }\n",
              "</style>\n",
              "<table border=\"1\" class=\"dataframe\">\n",
              "  <thead>\n",
              "    <tr style=\"text-align: right;\">\n",
              "      <th></th>\n",
              "      <th>Country name</th>\n",
              "      <th>GDP (pounds in Millions)</th>\n",
              "    </tr>\n",
              "  </thead>\n",
              "  <tbody>\n",
              "    <tr>\n",
              "      <th>0</th>\n",
              "      <td>United Kingdom</td>\n",
              "      <td>1711727</td>\n",
              "    </tr>\n",
              "    <tr>\n",
              "      <th>1</th>\n",
              "      <td>United States of America</td>\n",
              "      <td>10716029</td>\n",
              "    </tr>\n",
              "    <tr>\n",
              "      <th>2</th>\n",
              "      <td>China</td>\n",
              "      <td>5905202</td>\n",
              "    </tr>\n",
              "    <tr>\n",
              "      <th>3</th>\n",
              "      <td>Brazil</td>\n",
              "      <td>1435148</td>\n",
              "    </tr>\n",
              "    <tr>\n",
              "      <th>4</th>\n",
              "      <td>South Africa</td>\n",
              "      <td>233937</td>\n",
              "    </tr>\n",
              "    <tr>\n",
              "      <th>5</th>\n",
              "      <td>India</td>\n",
              "      <td>15977</td>\n",
              "    </tr>\n",
              "    <tr>\n",
              "      <th>6</th>\n",
              "      <td>Russia</td>\n",
              "      <td>25931</td>\n",
              "    </tr>\n",
              "  </tbody>\n",
              "</table>\n",
              "</div>"
            ],
            "text/plain": [
              "               Country name  GDP (pounds in Millions)\n",
              "0            United Kingdom                   1711727\n",
              "1  United States of America                  10716029\n",
              "2                     China                   5905202\n",
              "3                    Brazil                   1435148\n",
              "4              South Africa                    233937\n",
              "5                     India                     15977\n",
              "6                    Russia                     25931"
            ]
          },
          "metadata": {
            "tags": []
          },
          "execution_count": 40
        }
      ]
    },
    {
      "cell_type": "markdown",
      "metadata": {
        "id": "UCpDSXXlJhaN",
        "colab_type": "text"
      },
      "source": [
        "## Joining the tables\n",
        "* Here both the tables have one common column <pre>Country name</pre>\n",
        "* We <b>join</b> both the tables on the country name using the <pre>merge(<i>table_1, table_2, on=column_name, how=[left,] right, center])</i>)</pre>\n"
      ]
    },
    {
      "cell_type": "code",
      "metadata": {
        "id": "Ne6JFt8AEIpF",
        "colab_type": "code",
        "outputId": "448abe20-6d43-4d33-ae5d-3c2b45bb968a",
        "colab": {
          "base_uri": "https://localhost:8080/",
          "height": 264
        }
      },
      "source": [
        "#As we want all the columns of the left gdp_in_pounds table than we use join. \n",
        "pd.merge(gdp_in_pounds, life_expectancy, on='Country name', how='left')"
      ],
      "execution_count": 41,
      "outputs": [
        {
          "output_type": "execute_result",
          "data": {
            "text/html": [
              "<div>\n",
              "<style scoped>\n",
              "    .dataframe tbody tr th:only-of-type {\n",
              "        vertical-align: middle;\n",
              "    }\n",
              "\n",
              "    .dataframe tbody tr th {\n",
              "        vertical-align: top;\n",
              "    }\n",
              "\n",
              "    .dataframe thead th {\n",
              "        text-align: right;\n",
              "    }\n",
              "</style>\n",
              "<table border=\"1\" class=\"dataframe\">\n",
              "  <thead>\n",
              "    <tr style=\"text-align: right;\">\n",
              "      <th></th>\n",
              "      <th>Country name</th>\n",
              "      <th>GDP (pounds in Millions)</th>\n",
              "      <th>Life expectancy (years)</th>\n",
              "    </tr>\n",
              "  </thead>\n",
              "  <tbody>\n",
              "    <tr>\n",
              "      <th>0</th>\n",
              "      <td>United Kingdom</td>\n",
              "      <td>1711727</td>\n",
              "      <td>81</td>\n",
              "    </tr>\n",
              "    <tr>\n",
              "      <th>1</th>\n",
              "      <td>United States of America</td>\n",
              "      <td>10716029</td>\n",
              "      <td>79</td>\n",
              "    </tr>\n",
              "    <tr>\n",
              "      <th>2</th>\n",
              "      <td>China</td>\n",
              "      <td>5905202</td>\n",
              "      <td>75</td>\n",
              "    </tr>\n",
              "    <tr>\n",
              "      <th>3</th>\n",
              "      <td>Brazil</td>\n",
              "      <td>1435148</td>\n",
              "      <td>58</td>\n",
              "    </tr>\n",
              "    <tr>\n",
              "      <th>4</th>\n",
              "      <td>South Africa</td>\n",
              "      <td>233937</td>\n",
              "      <td>72</td>\n",
              "    </tr>\n",
              "    <tr>\n",
              "      <th>5</th>\n",
              "      <td>India</td>\n",
              "      <td>15977</td>\n",
              "      <td>66</td>\n",
              "    </tr>\n",
              "    <tr>\n",
              "      <th>6</th>\n",
              "      <td>Russia</td>\n",
              "      <td>25931</td>\n",
              "      <td>71</td>\n",
              "    </tr>\n",
              "  </tbody>\n",
              "</table>\n",
              "</div>"
            ],
            "text/plain": [
              "               Country name  GDP (pounds in Millions)  Life expectancy (years)\n",
              "0            United Kingdom                   1711727                       81\n",
              "1  United States of America                  10716029                       79\n",
              "2                     China                   5905202                       75\n",
              "3                    Brazil                   1435148                       58\n",
              "4              South Africa                    233937                       72\n",
              "5                     India                     15977                       66\n",
              "6                    Russia                     25931                       71"
            ]
          },
          "metadata": {
            "tags": []
          },
          "execution_count": 41
        }
      ]
    },
    {
      "cell_type": "code",
      "metadata": {
        "id": "uUGvxYUnM8_q",
        "colab_type": "code",
        "colab": {}
      },
      "source": [
        "# To get all the combinations we use outer Joins\n",
        "df = pd.merge(gdp_in_pounds, life_expectancy, on='Country name', how='inner')"
      ],
      "execution_count": 0,
      "outputs": []
    },
    {
      "cell_type": "markdown",
      "metadata": {
        "id": "yR__3caeUtNc",
        "colab_type": "text"
      },
      "source": [
        "## Correlation between columns\n",
        "* Correlation is to find the relationship between two table columns using statistical methods.\n",
        "* We use scipy's spearmanr method to find the correlation between gdp and life expectancy. ",
        "* <a href="https://docs.scipy.org/doc/scipy/reference/generated/scipy.stats.spearmanr.html" target="_blank"> More about spearmanr</a>" 
      ]
    },
    {
      "cell_type": "code",
      "metadata": {
        "id": "iQ-aNCymVJyj",
        "colab_type": "code",
        "outputId": "a561cf26-51e6-4496-e435-e0d09493a0af",
        "colab": {
          "base_uri": "https://localhost:8080/",
          "height": 52
        }
      },
      "source": [
        "from scipy.stats import spearmanr\n",
        "gdp_column = df['GDP (pounds in Millions)']\n",
        "life_column = df['Life expectancy (years)']\n",
        "(correlation, pvalue) = spearmanr(gdp_column, life_column)\n",
        "print(\"Coorelation is\", correlation)\n",
        "if pvalue < 0.05:\n",
        "  print(\"Data is statistically significant\")\n",
        "else: \n",
        "  print(\"Data is not statistically significant\")"
      ],
      "execution_count": 43,
      "outputs": [
        {
          "output_type": "stream",
          "text": [
            "Coorelation is 0.6785714285714287\n",
            "Data is not statistically significant\n"
          ],
          "name": "stdout"
        }
      ]
    },
    {
      "cell_type": "markdown",
      "metadata": {
        "id": "EMkn5JvUYQM-",
        "colab_type": "text"
      },
      "source": [
        "* This states that life expectancy is high in countries with high GDP.\n",
        "* But it is not statistically signifanct because ther can be many factors affecting the life expectancy oter than GDP.\n",
        "* Therefore, Always the quantitative analysis is not enough we also need qualitative analysis.\n",
        "* Plotting the graph and visualize."
      ]
    },
    {
      "cell_type": "code",
      "metadata": {
        "id": "7pD1W6Dbpfnb",
        "colab_type": "code",
        "colab": {
          "base_uri": "https://localhost:8080/",
          "height": 464
        },
        "outputId": "dd24317d-d131-4da0-b340-4070959cab31"
      },
      "source": [
        "df.plot.scatter(x=\"GDP (pounds in Millions)\", y=\"Life expectancy (years)\", grid=True, alpha=0.5, logx=True, figsize=(15,7))"
      ],
      "execution_count": 46,
      "outputs": [
        {
          "output_type": "execute_result",
          "data": {
            "text/plain": [
              "<matplotlib.axes._subplots.AxesSubplot at 0x7f9f51795f28>"
            ]
          },
          "metadata": {
            "tags": []
          },
          "execution_count": 46
        },
        {
          "output_type": "display_data",
          "data": {
            "image/png": "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\n",
            "text/plain": [
              "<Figure size 1080x504 with 1 Axes>"
            ]
          },
          "metadata": {
            "tags": [],
            "needs_background": "light"
          }
        }
      ]
    }
  ]
}
