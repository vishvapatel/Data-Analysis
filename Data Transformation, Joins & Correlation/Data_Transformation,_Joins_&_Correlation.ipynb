{
  "nbformat": 4,
  "nbformat_minor": 0,
  "metadata": {
    "colab": {
      "name": "Data Transformation, Joins & Correlation.ipynb",
      "provenance": [],
      "collapsed_sections": []
    },
    "kernelspec": {
      "name": "python3",
      "display_name": "Python 3"
    }
  },
  "cells": [
    {
      "cell_type": "markdown",
      "metadata": {
        "id": "oMvM4RKit1FS",
        "colab_type": "text"
      },
      "source": [
        "# Data Transformation\n",
        "## Contents\n",
        "1. Creating the Data\n"
      ]
    },
    {
      "cell_type": "code",
      "metadata": {
        "id": "Ev_WOiQhsUz5",
        "colab_type": "code",
        "colab": {}
      },
      "source": [
        "#Importing the library and removing the unwanted errors\n",
        "import pandas as pd\n",
        "import warnings\n",
        "warnings.simplefilter('ignore')"
      ],
      "execution_count": 0,
      "outputs": []
    },
    {
      "cell_type": "markdown",
      "metadata": {
        "id": "mQm3wLzRuZG9",
        "colab_type": "text"
      },
      "source": [
        "## Creating the Data\n",
        "* To understand the concepts we will work on small dataset. This time we will create our own data set.\n",
        "* The simplest way to create dataset is to use list concept of python.\n",
        "* Every list under the lsit wll represent every row & comma seperates the data column wise.\n",
        "* Here we create two datasets:\n",
        " * GDP of countries.\n",
        " * Life expectancy of countries.\n",
        "* We will then find answers to questions by analysing data.\n"
      ]
    },
    {
      "cell_type": "code",
      "metadata": {
        "id": "CJcBa6WTuWKu",
        "colab_type": "code",
        "outputId": "ebd6f982-e153-4dc5-f038-b76cfd36a7a7",
        "colab": {
          "base_uri": "https://localhost:8080/",
          "height": 264
        }
      },
      "source": [
        "#Creating GDP Dataset\n",
        "table = [\n",
        "\n",
        "['UK', 2678454886796.7], \n",
        "\n",
        "['USA', 16768100000000.0], \n",
        "\n",
        "['China', 9240270452047.0], \n",
        "\n",
        "['Brazil', 2245673032353.8],\n",
        "\n",
        "['South Africa', 366057913367.1],\n",
        "\n",
        "['India', 25000000000.345],\n",
        "\n",
        "['Russia', 40575984903.67]\n",
        "\n",
        "]\n",
        "headings = ['country', 'GDP (US$)']\n",
        "gdp = pd.DataFrame(columns=headings, data=table)\n",
        "gdp"
      ],
      "execution_count": 2,
      "outputs": [
        {
          "output_type": "execute_result",
          "data": {
            "text/html": [
              "<div>\n",
              "<style scoped>\n",
              "    .dataframe tbody tr th:only-of-type {\n",
              "        vertical-align: middle;\n",
              "    }\n",
              "\n",
              "    .dataframe tbody tr th {\n",
              "        vertical-align: top;\n",
              "    }\n",
              "\n",
              "    .dataframe thead th {\n",
              "        text-align: right;\n",
              "    }\n",
              "</style>\n",
              "<table border=\"1\" class=\"dataframe\">\n",
              "  <thead>\n",
              "    <tr style=\"text-align: right;\">\n",
              "      <th></th>\n",
              "      <th>country</th>\n",
              "      <th>GDP (US$)</th>\n",
              "    </tr>\n",
              "  </thead>\n",
              "  <tbody>\n",
              "    <tr>\n",
              "      <th>0</th>\n",
              "      <td>UK</td>\n",
              "      <td>2.678455e+12</td>\n",
              "    </tr>\n",
              "    <tr>\n",
              "      <th>1</th>\n",
              "      <td>USA</td>\n",
              "      <td>1.676810e+13</td>\n",
              "    </tr>\n",
              "    <tr>\n",
              "      <th>2</th>\n",
              "      <td>China</td>\n",
              "      <td>9.240270e+12</td>\n",
              "    </tr>\n",
              "    <tr>\n",
              "      <th>3</th>\n",
              "      <td>Brazil</td>\n",
              "      <td>2.245673e+12</td>\n",
              "    </tr>\n",
              "    <tr>\n",
              "      <th>4</th>\n",
              "      <td>South Africa</td>\n",
              "      <td>3.660579e+11</td>\n",
              "    </tr>\n",
              "    <tr>\n",
              "      <th>5</th>\n",
              "      <td>India</td>\n",
              "      <td>2.500000e+10</td>\n",
              "    </tr>\n",
              "    <tr>\n",
              "      <th>6</th>\n",
              "      <td>Russia</td>\n",
              "      <td>4.057598e+10</td>\n",
              "    </tr>\n",
              "  </tbody>\n",
              "</table>\n",
              "</div>"
            ],
            "text/plain": [
              "        country     GDP (US$)\n",
              "0            UK  2.678455e+12\n",
              "1           USA  1.676810e+13\n",
              "2         China  9.240270e+12\n",
              "3        Brazil  2.245673e+12\n",
              "4  South Africa  3.660579e+11\n",
              "5         India  2.500000e+10\n",
              "6        Russia  4.057598e+10"
            ]
          },
          "metadata": {
            "tags": []
          },
          "execution_count": 2
        }
      ]
    },
    {
      "cell_type": "code",
      "metadata": {
        "id": "XRi8ehcSxKv3",
        "colab_type": "code",
        "outputId": "286bb363-0c13-4f99-bd7f-af65c97db3bf",
        "colab": {
          "base_uri": "https://localhost:8080/",
          "height": 264
        }
      },
      "source": [
        "headings = ['Country name', 'Life expectancy (years)']\n",
        "\n",
        "table = [\n",
        "\n",
        "['China', 75],\n",
        "\n",
        "['Russia', 71],\n",
        "\n",
        "['United States of America', 79],\n",
        "\n",
        "['India', 66],\n",
        "\n",
        "['United Kingdom', 81],\n",
        "\n",
        "['Brazil', 58],\n",
        "\n",
        "['South Africa', 72]\n",
        "\n",
        "]\n",
        "life_expectancy = pd.DataFrame(columns=headings, data=table)\n",
        "life_expectancy"
      ],
      "execution_count": 11,
      "outputs": [
        {
          "output_type": "execute_result",
          "data": {
            "text/html": [
              "<div>\n",
              "<style scoped>\n",
              "    .dataframe tbody tr th:only-of-type {\n",
              "        vertical-align: middle;\n",
              "    }\n",
              "\n",
              "    .dataframe tbody tr th {\n",
              "        vertical-align: top;\n",
              "    }\n",
              "\n",
              "    .dataframe thead th {\n",
              "        text-align: right;\n",
              "    }\n",
              "</style>\n",
              "<table border=\"1\" class=\"dataframe\">\n",
              "  <thead>\n",
              "    <tr style=\"text-align: right;\">\n",
              "      <th></th>\n",
              "      <th>Country name</th>\n",
              "      <th>Life expectancy (years)</th>\n",
              "    </tr>\n",
              "  </thead>\n",
              "  <tbody>\n",
              "    <tr>\n",
              "      <th>0</th>\n",
              "      <td>China</td>\n",
              "      <td>75</td>\n",
              "    </tr>\n",
              "    <tr>\n",
              "      <th>1</th>\n",
              "      <td>Russia</td>\n",
              "      <td>71</td>\n",
              "    </tr>\n",
              "    <tr>\n",
              "      <th>2</th>\n",
              "      <td>United States of America</td>\n",
              "      <td>79</td>\n",
              "    </tr>\n",
              "    <tr>\n",
              "      <th>3</th>\n",
              "      <td>India</td>\n",
              "      <td>66</td>\n",
              "    </tr>\n",
              "    <tr>\n",
              "      <th>4</th>\n",
              "      <td>United Kingdom</td>\n",
              "      <td>81</td>\n",
              "    </tr>\n",
              "    <tr>\n",
              "      <th>5</th>\n",
              "      <td>Brazil</td>\n",
              "      <td>58</td>\n",
              "    </tr>\n",
              "    <tr>\n",
              "      <th>6</th>\n",
              "      <td>South Africa</td>\n",
              "      <td>72</td>\n",
              "    </tr>\n",
              "  </tbody>\n",
              "</table>\n",
              "</div>"
            ],
            "text/plain": [
              "               Country name  Life expectancy (years)\n",
              "0                     China                       75\n",
              "1                    Russia                       71\n",
              "2  United States of America                       79\n",
              "3                     India                       66\n",
              "4            United Kingdom                       81\n",
              "5                    Brazil                       58\n",
              "6              South Africa                       72"
            ]
          },
          "metadata": {
            "tags": []
          },
          "execution_count": 11
        }
      ]
    },
    {
      "cell_type": "markdown",
      "metadata": {
        "id": "1qw_-UQB_V0n",
        "colab_type": "text"
      },
      "source": [
        "## Transforming Data\n",
        "* We want to transform the GDP amount to the nearest millions to simplify the data readability.\n",
        "* Therefore, we create function/method in python that will <b>round</b> the amount into nearest millions.\n",
        "* If you dont want to return anything you can use: <pre>return None</pre>\n",
        "* The built-in method <pre>round()</pre>rounds the value according to the BODMAS rules.\n",
        "* We add one more method that expands the country names. \n",
        "for eg: USA-United States of America."
      ]
    },
    {
      "cell_type": "code",
      "metadata": {
        "id": "zc054tSE_Ufb",
        "colab_type": "code",
        "colab": {}
      },
      "source": [
        "#User defined function that convertsamount to its nearest millions. \n",
        "def roundToMillions(value):\n",
        "  result = round(value / 1000000)\n",
        "  return result"
      ],
      "execution_count": 0,
      "outputs": []
    },
    {
      "cell_type": "code",
      "metadata": {
        "id": "I43VQN9xCWWo",
        "colab_type": "code",
        "colab": {}
      },
      "source": [
        "#Function that abrrevates the acronym.\n",
        "def expandCountry(name):\n",
        "  if name == \"USA\":\n",
        "    return \"United States of America\"\n",
        "  elif name == \"UK\":\n",
        "    return \"United Kingdom\"\n",
        "  else:\n",
        "    return name"
      ],
      "execution_count": 0,
      "outputs": []
    },
    {
      "cell_type": "code",
      "metadata": {
        "id": "ZiUHP2O2EWce",
        "colab_type": "code",
        "colab": {}
      },
      "source": [
        "#Convert the currency from US$ to UKpounds.\n",
        "def ustoGbp(usd):\n",
        "  pounds = usd/1.564768 #aerage rate in 2013\n",
        "  return pounds"
      ],
      "execution_count": 0,
      "outputs": []
    },
    {
      "cell_type": "markdown",
      "metadata": {
        "id": "qbwW2lKSDGxS",
        "colab_type": "text"
      },
      "source": [
        "## Applying functions\n",
        "* Lets look how we can use this functions for the columns in the dataset.\n",
        "* We will use the function <pre>column.apply(<i>function_name</i>)</pre> to apply the user defined function to the particular column."
      ]
    },
    {
      "cell_type": "code",
      "metadata": {
        "id": "Il4mDTWeDsBy",
        "colab_type": "code",
        "outputId": "c537fc62-0575-45cb-8532-84b89b22e845",
        "colab": {
          "base_uri": "https://localhost:8080/",
          "height": 264
        }
      },
      "source": [
        "column = gdp['country'] #Assigning the column to the variable.\n",
        "gdp['Country name'] = column.apply(expandCountry)\n",
        "gdp"
      ],
      "execution_count": 12,
      "outputs": [
        {
          "output_type": "execute_result",
          "data": {
            "text/html": [
              "<div>\n",
              "<style scoped>\n",
              "    .dataframe tbody tr th:only-of-type {\n",
              "        vertical-align: middle;\n",
              "    }\n",
              "\n",
              "    .dataframe tbody tr th {\n",
              "        vertical-align: top;\n",
              "    }\n",
              "\n",
              "    .dataframe thead th {\n",
              "        text-align: right;\n",
              "    }\n",
              "</style>\n",
              "<table border=\"1\" class=\"dataframe\">\n",
              "  <thead>\n",
              "    <tr style=\"text-align: right;\">\n",
              "      <th></th>\n",
              "      <th>country</th>\n",
              "      <th>GDP (US$)</th>\n",
              "      <th>Country name</th>\n",
              "      <th>GDP (pounds in Millions)</th>\n",
              "    </tr>\n",
              "  </thead>\n",
              "  <tbody>\n",
              "    <tr>\n",
              "      <th>0</th>\n",
              "      <td>UK</td>\n",
              "      <td>2.678455e+12</td>\n",
              "      <td>United Kingdom</td>\n",
              "      <td>1711727</td>\n",
              "    </tr>\n",
              "    <tr>\n",
              "      <th>1</th>\n",
              "      <td>USA</td>\n",
              "      <td>1.676810e+13</td>\n",
              "      <td>United States of America</td>\n",
              "      <td>10716029</td>\n",
              "    </tr>\n",
              "    <tr>\n",
              "      <th>2</th>\n",
              "      <td>China</td>\n",
              "      <td>9.240270e+12</td>\n",
              "      <td>China</td>\n",
              "      <td>5905202</td>\n",
              "    </tr>\n",
              "    <tr>\n",
              "      <th>3</th>\n",
              "      <td>Brazil</td>\n",
              "      <td>2.245673e+12</td>\n",
              "      <td>Brazil</td>\n",
              "      <td>1435148</td>\n",
              "    </tr>\n",
              "    <tr>\n",
              "      <th>4</th>\n",
              "      <td>South Africa</td>\n",
              "      <td>3.660579e+11</td>\n",
              "      <td>South Africa</td>\n",
              "      <td>233937</td>\n",
              "    </tr>\n",
              "    <tr>\n",
              "      <th>5</th>\n",
              "      <td>India</td>\n",
              "      <td>2.500000e+10</td>\n",
              "      <td>India</td>\n",
              "      <td>15977</td>\n",
              "    </tr>\n",
              "    <tr>\n",
              "      <th>6</th>\n",
              "      <td>Russia</td>\n",
              "      <td>4.057598e+10</td>\n",
              "      <td>Russia</td>\n",
              "      <td>25931</td>\n",
              "    </tr>\n",
              "  </tbody>\n",
              "</table>\n",
              "</div>"
            ],
            "text/plain": [
              "        country  ...  GDP (pounds in Millions)\n",
              "0            UK  ...                   1711727\n",
              "1           USA  ...                  10716029\n",
              "2         China  ...                   5905202\n",
              "3        Brazil  ...                   1435148\n",
              "4  South Africa  ...                    233937\n",
              "5         India  ...                     15977\n",
              "6        Russia  ...                     25931\n",
              "\n",
              "[7 rows x 4 columns]"
            ]
          },
          "metadata": {
            "tags": []
          },
          "execution_count": 12
        }
      ]
    },
    {
      "cell_type": "code",
      "metadata": {
        "id": "NyZwI7PrF8C4",
        "colab_type": "code",
        "outputId": "f344efb5-d66a-4c36-ea6e-f921d9b17f0b",
        "colab": {
          "base_uri": "https://localhost:8080/",
          "height": 264
        }
      },
      "source": [
        "#Selecting the new columns to handle data with.\n",
        "gdp_in_pounds = gdp[['Country name','GDP (pounds in Millions)']]\n",
        "gdp_in_pounds"
      ],
      "execution_count": 13,
      "outputs": [
        {
          "output_type": "execute_result",
          "data": {
            "text/html": [
              "<div>\n",
              "<style scoped>\n",
              "    .dataframe tbody tr th:only-of-type {\n",
              "        vertical-align: middle;\n",
              "    }\n",
              "\n",
              "    .dataframe tbody tr th {\n",
              "        vertical-align: top;\n",
              "    }\n",
              "\n",
              "    .dataframe thead th {\n",
              "        text-align: right;\n",
              "    }\n",
              "</style>\n",
              "<table border=\"1\" class=\"dataframe\">\n",
              "  <thead>\n",
              "    <tr style=\"text-align: right;\">\n",
              "      <th></th>\n",
              "      <th>Country name</th>\n",
              "      <th>GDP (pounds in Millions)</th>\n",
              "    </tr>\n",
              "  </thead>\n",
              "  <tbody>\n",
              "    <tr>\n",
              "      <th>0</th>\n",
              "      <td>United Kingdom</td>\n",
              "      <td>1711727</td>\n",
              "    </tr>\n",
              "    <tr>\n",
              "      <th>1</th>\n",
              "      <td>United States of America</td>\n",
              "      <td>10716029</td>\n",
              "    </tr>\n",
              "    <tr>\n",
              "      <th>2</th>\n",
              "      <td>China</td>\n",
              "      <td>5905202</td>\n",
              "    </tr>\n",
              "    <tr>\n",
              "      <th>3</th>\n",
              "      <td>Brazil</td>\n",
              "      <td>1435148</td>\n",
              "    </tr>\n",
              "    <tr>\n",
              "      <th>4</th>\n",
              "      <td>South Africa</td>\n",
              "      <td>233937</td>\n",
              "    </tr>\n",
              "    <tr>\n",
              "      <th>5</th>\n",
              "      <td>India</td>\n",
              "      <td>15977</td>\n",
              "    </tr>\n",
              "    <tr>\n",
              "      <th>6</th>\n",
              "      <td>Russia</td>\n",
              "      <td>25931</td>\n",
              "    </tr>\n",
              "  </tbody>\n",
              "</table>\n",
              "</div>"
            ],
            "text/plain": [
              "               Country name  GDP (pounds in Millions)\n",
              "0            United Kingdom                   1711727\n",
              "1  United States of America                  10716029\n",
              "2                     China                   5905202\n",
              "3                    Brazil                   1435148\n",
              "4              South Africa                    233937\n",
              "5                     India                     15977\n",
              "6                    Russia                     25931"
            ]
          },
          "metadata": {
            "tags": []
          },
          "execution_count": 13
        }
      ]
    },
    {
      "cell_type": "markdown",
      "metadata": {
        "id": "UCpDSXXlJhaN",
        "colab_type": "text"
      },
      "source": [
        "## Joining the tables\n",
        "* Here both the tables have one common column <pre>Country name</pre>\n",
        "* We <b>join</b> both the tables on the country name using the <pre>merge(<i>table_1, table_2, on=column_name, how=[left,] right, center])</i>)</pre>\n"
      ]
    },
    {
      "cell_type": "code",
      "metadata": {
        "id": "Ne6JFt8AEIpF",
        "colab_type": "code",
        "outputId": "8d494c14-c32b-4102-e21d-c66ddeb7d9a0",
        "colab": {
          "base_uri": "https://localhost:8080/",
          "height": 264
        }
      },
      "source": [
        "#As we want all the columns of the left gdp_in_pounds table than we use join. \n",
        "pd.merge(gdp_in_pounds, life_expectancy, on='Country name', how='left')"
      ],
      "execution_count": 14,
      "outputs": [
        {
          "output_type": "execute_result",
          "data": {
            "text/html": [
              "<div>\n",
              "<style scoped>\n",
              "    .dataframe tbody tr th:only-of-type {\n",
              "        vertical-align: middle;\n",
              "    }\n",
              "\n",
              "    .dataframe tbody tr th {\n",
              "        vertical-align: top;\n",
              "    }\n",
              "\n",
              "    .dataframe thead th {\n",
              "        text-align: right;\n",
              "    }\n",
              "</style>\n",
              "<table border=\"1\" class=\"dataframe\">\n",
              "  <thead>\n",
              "    <tr style=\"text-align: right;\">\n",
              "      <th></th>\n",
              "      <th>Country name</th>\n",
              "      <th>GDP (pounds in Millions)</th>\n",
              "      <th>Life expectancy (years)</th>\n",
              "    </tr>\n",
              "  </thead>\n",
              "  <tbody>\n",
              "    <tr>\n",
              "      <th>0</th>\n",
              "      <td>United Kingdom</td>\n",
              "      <td>1711727</td>\n",
              "      <td>81</td>\n",
              "    </tr>\n",
              "    <tr>\n",
              "      <th>1</th>\n",
              "      <td>United States of America</td>\n",
              "      <td>10716029</td>\n",
              "      <td>79</td>\n",
              "    </tr>\n",
              "    <tr>\n",
              "      <th>2</th>\n",
              "      <td>China</td>\n",
              "      <td>5905202</td>\n",
              "      <td>75</td>\n",
              "    </tr>\n",
              "    <tr>\n",
              "      <th>3</th>\n",
              "      <td>Brazil</td>\n",
              "      <td>1435148</td>\n",
              "      <td>58</td>\n",
              "    </tr>\n",
              "    <tr>\n",
              "      <th>4</th>\n",
              "      <td>South Africa</td>\n",
              "      <td>233937</td>\n",
              "      <td>72</td>\n",
              "    </tr>\n",
              "    <tr>\n",
              "      <th>5</th>\n",
              "      <td>India</td>\n",
              "      <td>15977</td>\n",
              "      <td>66</td>\n",
              "    </tr>\n",
              "    <tr>\n",
              "      <th>6</th>\n",
              "      <td>Russia</td>\n",
              "      <td>25931</td>\n",
              "      <td>71</td>\n",
              "    </tr>\n",
              "  </tbody>\n",
              "</table>\n",
              "</div>"
            ],
            "text/plain": [
              "               Country name  GDP (pounds in Millions)  Life expectancy (years)\n",
              "0            United Kingdom                   1711727                       81\n",
              "1  United States of America                  10716029                       79\n",
              "2                     China                   5905202                       75\n",
              "3                    Brazil                   1435148                       58\n",
              "4              South Africa                    233937                       72\n",
              "5                     India                     15977                       66\n",
              "6                    Russia                     25931                       71"
            ]
          },
          "metadata": {
            "tags": []
          },
          "execution_count": 14
        }
      ]
    },
    {
      "cell_type": "code",
      "metadata": {
        "id": "uUGvxYUnM8_q",
        "colab_type": "code",
        "colab": {}
      },
      "source": [
        "# To get all the combinations we use outer Joins\n",
        "df = pd.merge(gdp_in_pounds, life_expectancy, on='Country name', how='inner')"
      ],
      "execution_count": 0,
      "outputs": []
    },
    {
      "cell_type": "markdown",
      "metadata": {
        "id": "yR__3caeUtNc",
        "colab_type": "text"
      },
      "source": [
        "## Correlation between columns\n",
        "* Correlation is to find the relationship between two table columns using statistical methods.\n",
        "* We use scipy's spearmanr method to find the correlation between gdp and life expectancy. "
      ]
    },
    {
      "cell_type": "code",
      "metadata": {
        "id": "iQ-aNCymVJyj",
        "colab_type": "code",
        "colab": {
          "base_uri": "https://localhost:8080/",
          "height": 52
        },
        "outputId": "dec6d3d3-bf62-4109-d9fd-e5346ad95a01"
      },
      "source": [
        "from scipy.stats import spearmanr\n",
        "gdp_column = df['GDP (pounds in Millions)']\n",
        "life_column = df['Life expectancy (years)']\n",
        "(correlation, pvalue) = spearmanr(gdp_column, life_column)\n",
        "print(\"Coorelation is\", correlation)\n",
        "if pvalue < 0.05:\n",
        "  print(\"Data is statistically significant\")\n",
        "else: \n",
        "  print(\"Data is not statistically significant\")"
      ],
      "execution_count": 29,
      "outputs": [
        {
          "output_type": "stream",
          "text": [
            "Coorelation is 0.6785714285714287\n",
            "Data is not statistically significant\n"
          ],
          "name": "stdout"
        }
      ]
    },
    {
      "cell_type": "markdown",
      "metadata": {
        "id": "EMkn5JvUYQM-",
        "colab_type": "text"
      },
      "source": [
        "* This states that life expectancy is high in countries with high GDP.\n",
        "* But it is not statistically signifanct because ther can be many factors affecting the life expectancy oter than GDP.\n",
        "* Therefore, Always the quantitative analysis is not enough we also need qualitative analysis.\n",
        "* Plotting the graph and visualize."
      ]
    }
  ]
}